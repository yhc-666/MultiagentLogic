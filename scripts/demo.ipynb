{
 "cells": [
  {
   "cell_type": "code",
   "execution_count": 7,
   "metadata": {},
   "outputs": [
    {
     "name": "stdout",
     "output_type": "stream",
     "text": [
      "Requirement already satisfied: scitools-pyke in /opt/miniconda3/envs/logiclm/lib/python3.10/site-packages (from -r ../requirements.txt (line 1)) (1.1.1)\n",
      "Requirement already satisfied: nltk in /opt/miniconda3/envs/logiclm/lib/python3.10/site-packages (from -r ../requirements.txt (line 2)) (3.9.1)\n",
      "Requirement already satisfied: python-constraint in /opt/miniconda3/envs/logiclm/lib/python3.10/site-packages (from -r ../requirements.txt (line 3)) (1.4.0)\n",
      "Requirement already satisfied: func_timeout in /opt/miniconda3/envs/logiclm/lib/python3.10/site-packages (from -r ../requirements.txt (line 4)) (4.3.5)\n",
      "Requirement already satisfied: z3-solver in /opt/miniconda3/envs/logiclm/lib/python3.10/site-packages (from -r ../requirements.txt (line 5)) (4.15.1.0)\n",
      "Requirement already satisfied: ply in /opt/miniconda3/envs/logiclm/lib/python3.10/site-packages (from -r ../requirements.txt (line 6)) (3.11)\n",
      "Requirement already satisfied: tqdm in /opt/miniconda3/envs/logiclm/lib/python3.10/site-packages (from -r ../requirements.txt (line 7)) (4.67.1)\n",
      "Requirement already satisfied: click in /opt/miniconda3/envs/logiclm/lib/python3.10/site-packages (from nltk->-r ../requirements.txt (line 2)) (8.2.1)\n",
      "Requirement already satisfied: joblib in /opt/miniconda3/envs/logiclm/lib/python3.10/site-packages (from nltk->-r ../requirements.txt (line 2)) (1.5.1)\n",
      "Requirement already satisfied: regex>=2021.8.3 in /opt/miniconda3/envs/logiclm/lib/python3.10/site-packages (from nltk->-r ../requirements.txt (line 2)) (2024.11.6)\n"
     ]
    }
   ],
   "source": [
    "!pip install -r ../requirements.txt"
   ]
  },
  {
   "cell_type": "code",
   "execution_count": 10,
   "metadata": {},
   "outputs": [],
   "source": [
    "import sys\n",
    "import os\n",
    "\n",
    "project_root = os.path.abspath('../')\n",
    "if project_root not in sys.path:\n",
    "    sys.path.insert(0, project_root)\n",
    "\n",
    "from src.symbolic_solvers.fol_solver.prover9_solver import FOL_Prover9_Program\n",
    "from src.symbolic_solvers.pyke_solver.pyke_solver import Pyke_Program\n"
   ]
  },
  {
   "cell_type": "markdown",
   "metadata": {},
   "source": [
    "## Pyke Solver"
   ]
  },
  {
   "cell_type": "code",
   "execution_count": 11,
   "metadata": {},
   "outputs": [],
   "source": [
    "sample_lp_program = \"Predicates:\\nCold($x, bool) ::: Is x cold?\\nQuiet($x, bool) ::: Is x quiet?\\nRed($x, bool) ::: Is x red?\\nSmart($x, bool) ::: Is x smart?\\nKind($x, bool) ::: Is x kind?\\nRough($x, bool) ::: Is x rough?\\nRound($x, bool) ::: Is x round?\\nFacts:\\nCold(Bob, True) ::: Bob is cold.\\nQuiet(Bob, True) ::: Bob is quiet.\\nRed(Bob, True) ::: Bob is red.\\nSmart(Bob, True) ::: Bob is smart.\\nKind(Charlie, True) ::: Charlie is kind.\\nQuiet(Charlie, True) ::: Charlie is quiet.\\nRed(Charlie, True) ::: Charlie is red.\\nRough(Charlie, True) ::: Charlie is rough.\\nCold(Dave, True) ::: Dave is cold.\\nKind(Dave, True) ::: Dave is kind.\\nSmart(Dave, True) ::: Dave is smart.\\nQuiet(Fiona, True) ::: Fiona is quiet.\\nRules:\\nQuiet($x, True) && Cold($x, True) >>> Smart($x, True) ::: If something is quiet and cold then it is smart.\\nRed($x, True) && Cold($x, True) >>> Round($x, True) ::: Red, cold things are round.\\nKind($x, True) && Rough($x, True) >>> Red($x, True) ::: If something is kind and rough then it is red.\\nQuiet($x, True) >>> Rough($x, True) ::: All quiet things are rough.\\nCold($x, True) && Smart($x, True) >>> Red($x, True) ::: Cold, smart things are red.\\nRough($x, True) >>> Cold($x, True) ::: If something is rough then it is cold.\\nRed($x, True) >>> Rough($x, True) ::: All red things are rough.\\nSmart(Dave, True) && Kind(Dave, True) >>> Quiet(Dave, True) ::: If Dave is smart and Dave is kind then Dave is quiet.\\nQuery:\\nKind(Charlie, True) ::: Charlie is kind.\""
   ]
  },
  {
   "cell_type": "code",
   "execution_count": 18,
   "metadata": {},
   "outputs": [
    {
     "name": "stdout",
     "output_type": "stream",
     "text": [
      "removing compiled_krb\n"
     ]
    }
   ],
   "source": [
    "pyke_program = Pyke_Program(sample_lp_program, 'ProofWriter')\n",
    "result, error_message, reasoning = pyke_program.execute_with_reasoning()"
   ]
  },
  {
   "cell_type": "code",
   "execution_count": 19,
   "metadata": {},
   "outputs": [
    {
     "name": "stdout",
     "output_type": "stream",
     "text": [
      "================================================================================\n",
      "Complete Reasoning Process:\n",
      "================================================================================\n",
      "We first define following predicates and corresponding natural language explanations:\n",
      "  Cold($x, bool) ::: Is x cold?\n",
      "  Quiet($x, bool) ::: Is x quiet?\n",
      "  Red($x, bool) ::: Is x red?\n",
      "  Smart($x, bool) ::: Is x smart?\n",
      "  Kind($x, bool) ::: Is x kind?\n",
      "  Rough($x, bool) ::: Is x rough?\n",
      "  Round($x, bool) ::: Is x round?\n",
      "We have following known facts from the context:\n",
      "  Cold(Bob, True) ::: Bob is cold.\n",
      "  Quiet(Bob, True) ::: Bob is quiet.\n",
      "  Red(Bob, True) ::: Bob is red.\n",
      "  Smart(Bob, True) ::: Bob is smart.\n",
      "  Kind(Charlie, True) ::: Charlie is kind.\n",
      "  Quiet(Charlie, True) ::: Charlie is quiet.\n",
      "  Red(Charlie, True) ::: Charlie is red.\n",
      "  Rough(Charlie, True) ::: Charlie is rough.\n",
      "  Cold(Dave, True) ::: Dave is cold.\n",
      "  Kind(Dave, True) ::: Dave is kind.\n",
      "  Smart(Dave, True) ::: Dave is smart.\n",
      "  Quiet(Fiona, True) ::: Fiona is quiet.\n",
      "We have following known rules from the context:\n",
      "  rule1: Quiet($x, True) && Cold($x, True) >>> Smart($x, True)\n",
      "  rule2: Red($x, True) && Cold($x, True) >>> Round($x, True)\n",
      "  rule3: Kind($x, True) && Rough($x, True) >>> Red($x, True)\n",
      "  rule4: Quiet($x, True) >>> Rough($x, True)\n",
      "  rule5: Cold($x, True) && Smart($x, True) >>> Red($x, True)\n",
      "  rule6: Rough($x, True) >>> Cold($x, True)\n",
      "  rule7: Red($x, True) >>> Rough($x, True)\n",
      "  rule8: Smart(Dave, True) && Kind(Dave, True) >>> Quiet(Dave, True)\n",
      "Now begin reasoning to obtain all implied facts:\n",
      "Use rule1: Quiet($x, True) && Cold($x, True) >>> Smart($x, True)\n",
      "Bind $x to 'Bob'\n",
      "Obtain an already known or implied fact: Smart('Bob', True)\n",
      "Unbind $x\n",
      "Bind $x to 'Charlie'\n",
      "Unbind $x\n",
      "Bind $x to 'Fiona'\n",
      "Unbind $x\n",
      "Finish implied with rule1\n",
      "Use rule2: Red($x, True) && Cold($x, True) >>> Round($x, True)\n",
      "Bind $x to 'Bob'\n",
      "Obtain a new implied fact: Round('Bob', True)\n",
      "Unbind $x\n",
      "Bind $x to 'Charlie'\n",
      "Unbind $x\n",
      "Finish implied with rule2\n",
      "Use rule3: Kind($x, True) && Rough($x, True) >>> Red($x, True)\n",
      "Bind $x to 'Charlie'\n",
      "Obtain an already known or implied fact: Red('Charlie', True)\n",
      "Unbind $x\n",
      "Bind $x to 'Dave'\n",
      "Unbind $x\n",
      "Finish implied with rule3\n",
      "Use rule4: Quiet($x, True) >>> Rough($x, True)\n",
      "Bind $x to 'Bob'\n",
      "Obtain a new implied fact: Rough('Bob', True)\n",
      "Reuse rule3: Kind($x, True) && Rough($x, True) >>> Red($x, True)\n",
      "Bind $x to 'Bob'\n",
      "Finish implied with rule3\n",
      "Use rule6: Rough($x, True) >>> Cold($x, True)\n",
      "Finish implied with rule6\n",
      "Reuse rule3: Kind($x, True) && Rough($x, True) >>> Red($x, True)\n",
      "Bind $x to 'Fiona'\n",
      "Finish implied with rule3\n",
      "Reuse rule6: Rough($x, True) >>> Cold($x, True)\n",
      "Finish implied with rule6\n",
      "Finish implied with rule4\n",
      "Use rule5: Cold($x, True) && Smart($x, True) >>> Red($x, True)\n",
      "Bind $x to 'Bob'\n",
      "Obtain an already known or implied fact: Red('Bob', True)\n",
      "Unbind $x\n",
      "Bind $x to 'Dave'\n",
      "Obtain a new implied fact: Red('Dave', True)\n",
      "Reuse rule2: Red($x, True) && Cold($x, True) >>> Round($x, True)\n",
      "Bind $x to 'Dave'\n",
      "Obtain a new implied fact: Round('Dave', True)\n",
      "Finish implied with rule2\n",
      "Use rule7: Red($x, True) >>> Rough($x, True)\n",
      "Finish implied with rule7\n",
      "Finish implied with rule5\n",
      "Reuse rule6: Rough($x, True) >>> Cold($x, True)\n",
      "Bind $x to 'Charlie'\n",
      "Obtain a new implied fact: Cold('Charlie', True)\n",
      "Reuse rule1: Quiet($x, True) && Cold($x, True) >>> Smart($x, True)\n",
      "Bind $x to 'Charlie'\n",
      "Obtain a new implied fact: Smart('Charlie', True)\n",
      "Reuse rule5: Cold($x, True) && Smart($x, True) >>> Red($x, True)\n",
      "Bind $x to 'Charlie'\n",
      "Obtain an already known or implied fact: Red('Charlie', True)\n",
      "Finish implied with rule5\n",
      "Use rule8: Smart(Dave, True) && Kind(Dave, True) >>> Quiet(Dave, True)\n",
      "Finish implied with rule8\n",
      "Finish implied with rule1\n",
      "Reuse rule2: Red($x, True) && Cold($x, True) >>> Round($x, True)\n",
      "Bind $x to 'Charlie'\n",
      "Obtain a new implied fact: Round('Charlie', True)\n",
      "Finish implied with rule2\n",
      "Reuse rule5: Cold($x, True) && Smart($x, True) >>> Red($x, True)\n",
      "Bind $x to 'Charlie'\n",
      "Obtain an already known or implied fact: Red('Charlie', True)\n",
      "Finish implied with rule5\n",
      "Reuse rule1: Quiet($x, True) && Cold($x, True) >>> Smart($x, True)\n",
      "Bind $x to 'Fiona'\n",
      "Obtain a new implied fact: Smart('Fiona', True)\n",
      "Reuse rule5: Cold($x, True) && Smart($x, True) >>> Red($x, True)\n",
      "Bind $x to 'Fiona'\n",
      "Obtain a new implied fact: Red('Fiona', True)\n",
      "Reuse rule2: Red($x, True) && Cold($x, True) >>> Round($x, True)\n",
      "Bind $x to 'Fiona'\n",
      "Obtain a new implied fact: Round('Fiona', True)\n",
      "Finish implied with rule2\n",
      "Reuse rule7: Red($x, True) >>> Rough($x, True)\n",
      "Finish implied with rule7\n",
      "Finish implied with rule5\n",
      "Reuse rule8: Smart(Dave, True) && Kind(Dave, True) >>> Quiet(Dave, True)\n",
      "Finish implied with rule8\n",
      "Finish implied with rule1\n",
      "Reuse rule2: Red($x, True) && Cold($x, True) >>> Round($x, True)\n",
      "Bind $x to 'Fiona'\n",
      "Obtain an already known or implied fact: Round('Fiona', True)\n",
      "Finish implied with rule2\n",
      "Reuse rule5: Cold($x, True) && Smart($x, True) >>> Red($x, True)\n",
      "Bind $x to 'Fiona'\n",
      "Obtain an already known or implied fact: Red('Fiona', True)\n",
      "Finish implied with rule5\n",
      "Finish implied with rule6\n",
      "Reuse rule7: Red($x, True) >>> Rough($x, True)\n",
      "Bind $x to 'Bob'\n",
      "Obtain an already known or implied fact: Rough('Bob', True)\n",
      "Unbind $x\n",
      "Bind $x to 'Charlie'\n",
      "Obtain an already known or implied fact: Rough('Charlie', True)\n",
      "Unbind $x\n",
      "Bind $x to 'Dave'\n",
      "Obtain a new implied fact: Rough('Dave', True)\n",
      "Reuse rule3: Kind($x, True) && Rough($x, True) >>> Red($x, True)\n",
      "Bind $x to 'Dave'\n",
      "Obtain an already known or implied fact: Red('Dave', True)\n",
      "Finish implied with rule3\n",
      "Reuse rule6: Rough($x, True) >>> Cold($x, True)\n",
      "Bind $x to 'Dave'\n",
      "Obtain an already known or implied fact: Cold('Dave', True)\n",
      "Finish implied with rule6\n",
      "Finish implied with rule7\n",
      "Reuse rule8: Smart(Dave, True) && Kind(Dave, True) >>> Quiet(Dave, True)\n",
      "Obtain a new implied fact: Quiet('Dave', True)\n",
      "Reuse rule1: Quiet($x, True) && Cold($x, True) >>> Smart($x, True)\n",
      "Bind $x to 'Dave'\n",
      "Obtain an already known or implied fact: Smart('Dave', True)\n",
      "Finish implied with rule1\n",
      "Reuse rule4: Quiet($x, True) >>> Rough($x, True)\n",
      "Bind $x to 'Dave'\n",
      "Obtain an already known or implied fact: Rough('Dave', True)\n",
      "Finish implied with rule4\n",
      "Finish implied with rule8\n",
      "All newly implied Facts: Cold('Charlie', True), Quiet('Dave', True), Red('Dave', True), Red('Fiona', True), Rough('Bob', True), Rough('Dave', True), Round('Bob', True), Round('Charlie', True), Round('Dave', True), Round('Fiona', True), Smart('Charlie', True), Smart('Fiona', True)\n",
      "Finish reasoning\n",
      "\n",
      "================================================================================\n",
      "total tokens: 6295\n",
      "num of lines: 158\n",
      "================================================================================\n"
     ]
    }
   ],
   "source": [
    "print(\"================================================================================\")\n",
    "print(\"Complete Reasoning Process:\")\n",
    "print(\"================================================================================\")\n",
    "print(reasoning)\n",
    "print(\"\\n================================================================================\")\n",
    "print(f\"total tokens: {len(reasoning)}\")\n",
    "print(f\"num of lines: {len(reasoning.split(chr(10)))}\")\n",
    "print(\"================================================================================\")\n",
    "\n"
   ]
  },
  {
   "cell_type": "code",
   "execution_count": null,
   "metadata": {},
   "outputs": [],
   "source": [
    "\n",
    "print('### Premises\\n\\u2022 Miroslav Venhoda was a Czech choral conductor who specialized in the performance of Renaissance and Baroque music.\\n\\u2022 Any choral conductor is a musician.\\n\\u2022 Some musicians love music.\\n\\u2022 Miroslav Venhoda published a book in 1946 called Method of Studying Gregorian Chant.\\n\\n### Conclusion to check\\nNo choral conductor specialized in the performance of Renaissance.\\n\\n### Proof sketch \\u2014 (by contradiction)\\n1. Assume all premises are true.\\n2. For contradiction we assume the opposite of the conclusion.\\n3. assumption: Czech(Miroslav) & ChoralConductor(Miroslav) & Specialize(Miroslav,Renaissance) & Specialize(Miroslav,Baroque).\\n4. goal: --(exists x (ChoralConductor(x) & Specialize(x,Renaissance))).\\n5. derived from a premise: ChoralConductor(Miroslav).\\n6. negating a previous step: -ChoralConductor(x) | -Specialize(x,Renaissance).\\n7. resolving previous steps: -Specialize(Miroslav,Renaissance).\\n8. derived from a premise: Specialize(Miroslav,Renaissance).\\n9. resolving previous steps: $F.\\n10. ============================== end of proof ==========================\\n\\n### Verdict\\nThus the original conclusion is **refuted**; its negation is entailed.')"
   ]
  },
  {
   "cell_type": "code",
   "execution_count": null,
   "metadata": {},
   "outputs": [],
   "source": [
    "\n"
   ]
  },
  {
   "cell_type": "code",
   "execution_count": null,
   "metadata": {},
   "outputs": [],
   "source": []
  },
  {
   "cell_type": "markdown",
   "metadata": {},
   "source": [
    "## Prove9 Solver"
   ]
  },
  {
   "cell_type": "code",
   "execution_count": 1,
   "metadata": {},
   "outputs": [],
   "source": [
    "logic_program_2 = \"\"\"Premises:\n",
    "    ∀x (Drinks(x) → Dependent(x)) ::: All people who regularly drink coffee are dependent on caffeine.\n",
    "    ∀x (Drinks(x) ⊕ Jokes(x)) ::: People either regularly drink coffee or joke about being addicted to caffeine.\n",
    "    ∀x (Jokes(x) → ¬Unaware(x)) ::: No one who jokes about being addicted to caffeine is unaware that caffeine is a drug. \n",
    "    (Student(rina) ∧ Unaware(rina)) ⊕ ¬(Student(rina) ∨ Unaware(rina)) ::: Rina is either a student and unaware that caffeine is a drug, or neither a student nor unaware that caffeine is a drug. \n",
    "    ¬(Dependent(rina) ∧ Student(rina)) → (Dependent(rina) ∧ Student(rina)) ⊕ ¬(Dependent(rina) ∨ Student(rina)) ::: If Rina is not a person dependent on caffeine and a student, then Rina is either a person dependent on caffeine and a student, or neither a person dependent on caffeine nor a student.\n",
    "    Conclusion:\n",
    "    Jokes(rina) ⊕ Unaware(rina) ::: Rina is either a person who jokes about being addicted to caffeine or is unaware that caffeine is a drug.\n",
    "    \"\"\""
   ]
  },
  {
   "cell_type": "code",
   "execution_count": 4,
   "metadata": {},
   "outputs": [],
   "source": [
    "prover9_program = FOL_Prover9_Program(logic_program_2)"
   ]
  },
  {
   "cell_type": "code",
   "execution_count": 5,
   "metadata": {},
   "outputs": [
    {
     "name": "stdout",
     "output_type": "stream",
     "text": [
      "result: True\n"
     ]
    },
    {
     "ename": "",
     "evalue": "",
     "output_type": "error",
     "traceback": [
      "\u001b[1;31mThe Kernel crashed while executing code in the current cell or a previous cell. \n",
      "\u001b[1;31mPlease review the code in the cell(s) to identify a possible cause of the failure. \n",
      "\u001b[1;31mClick <a href='https://aka.ms/vscodeJupyterKernelCrash'>here</a> for more info. \n",
      "\u001b[1;31mView Jupyter <a href='command:jupyter.viewOutput'>log</a> for further details."
     ]
    }
   ],
   "source": [
    "if prover9_program.flag:  # 检查解析是否成功\n",
    "    answer, error_message = prover9_program.execute_program()\n",
    "    print(f\"result: {answer}\")\n",
    "    if error_message:\n",
    "        print(f\"error message: {error_message}\")\n",
    "else:\n",
    "    print(\"logic program parsing failed\")"
   ]
  }
 ],
 "metadata": {
  "kernelspec": {
   "display_name": "logiclm",
   "language": "python",
   "name": "python3"
  },
  "language_info": {
   "codemirror_mode": {
    "name": "ipython",
    "version": 3
   },
   "file_extension": ".py",
   "mimetype": "text/x-python",
   "name": "python",
   "nbconvert_exporter": "python",
   "pygments_lexer": "ipython3",
   "version": "3.10.18"
  }
 },
 "nbformat": 4,
 "nbformat_minor": 2
}
