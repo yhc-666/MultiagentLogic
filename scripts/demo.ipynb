{
 "cells": [
  {
   "cell_type": "code",
   "execution_count": 3,
   "metadata": {},
   "outputs": [
    {
     "name": "stdout",
     "output_type": "stream",
     "text": [
      "Requirement already satisfied: scitools-pyke in /opt/miniconda3/envs/logiclm/lib/python3.10/site-packages (from -r ../requirements.txt (line 1)) (1.1.1)\n",
      "Requirement already satisfied: nltk in /opt/miniconda3/envs/logiclm/lib/python3.10/site-packages (from -r ../requirements.txt (line 2)) (3.9.1)\n",
      "Requirement already satisfied: python-constraint in /opt/miniconda3/envs/logiclm/lib/python3.10/site-packages (from -r ../requirements.txt (line 3)) (1.4.0)\n",
      "Requirement already satisfied: func_timeout in /opt/miniconda3/envs/logiclm/lib/python3.10/site-packages (from -r ../requirements.txt (line 4)) (4.3.5)\n",
      "Requirement already satisfied: z3-solver in /opt/miniconda3/envs/logiclm/lib/python3.10/site-packages (from -r ../requirements.txt (line 5)) (4.15.1.0)\n",
      "Requirement already satisfied: ply in /opt/miniconda3/envs/logiclm/lib/python3.10/site-packages (from -r ../requirements.txt (line 6)) (3.11)\n",
      "Requirement already satisfied: tqdm in /opt/miniconda3/envs/logiclm/lib/python3.10/site-packages (from -r ../requirements.txt (line 7)) (4.67.1)\n",
      "Requirement already satisfied: click in /opt/miniconda3/envs/logiclm/lib/python3.10/site-packages (from nltk->-r ../requirements.txt (line 2)) (8.2.1)\n",
      "Requirement already satisfied: joblib in /opt/miniconda3/envs/logiclm/lib/python3.10/site-packages (from nltk->-r ../requirements.txt (line 2)) (1.5.1)\n",
      "Requirement already satisfied: regex>=2021.8.3 in /opt/miniconda3/envs/logiclm/lib/python3.10/site-packages (from nltk->-r ../requirements.txt (line 2)) (2024.11.6)\n"
     ]
    }
   ],
   "source": [
    "!pip install -r ../requirements.txt"
   ]
  },
  {
   "cell_type": "code",
   "execution_count": 3,
   "metadata": {},
   "outputs": [],
   "source": [
    "import sys\n",
    "import os\n",
    "\n",
    "# 添加项目根目录到Python路径\n",
    "sys.path.append(os.path.abspath('../'))\n",
    "\n",
    "# 导入FOL_Prover9_Program类\n",
    "from src.symbolic_solvers.fol_solver.prover9_solver import FOL_Prover9_Program\n"
   ]
  },
  {
   "cell_type": "markdown",
   "metadata": {},
   "source": [
    "## Prove9 Solver"
   ]
  },
  {
   "cell_type": "code",
   "execution_count": 1,
   "metadata": {},
   "outputs": [],
   "source": [
    "logic_program_2 = \"\"\"Premises:\n",
    "    ∀x (Drinks(x) → Dependent(x)) ::: All people who regularly drink coffee are dependent on caffeine.\n",
    "    ∀x (Drinks(x) ⊕ Jokes(x)) ::: People either regularly drink coffee or joke about being addicted to caffeine.\n",
    "    ∀x (Jokes(x) → ¬Unaware(x)) ::: No one who jokes about being addicted to caffeine is unaware that caffeine is a drug. \n",
    "    (Student(rina) ∧ Unaware(rina)) ⊕ ¬(Student(rina) ∨ Unaware(rina)) ::: Rina is either a student and unaware that caffeine is a drug, or neither a student nor unaware that caffeine is a drug. \n",
    "    ¬(Dependent(rina) ∧ Student(rina)) → (Dependent(rina) ∧ Student(rina)) ⊕ ¬(Dependent(rina) ∨ Student(rina)) ::: If Rina is not a person dependent on caffeine and a student, then Rina is either a person dependent on caffeine and a student, or neither a person dependent on caffeine nor a student.\n",
    "    Conclusion:\n",
    "    Jokes(rina) ⊕ Unaware(rina) ::: Rina is either a person who jokes about being addicted to caffeine or is unaware that caffeine is a drug.\n",
    "    \"\"\""
   ]
  },
  {
   "cell_type": "code",
   "execution_count": 4,
   "metadata": {},
   "outputs": [],
   "source": [
    "prover9_program = FOL_Prover9_Program(logic_program_2)"
   ]
  },
  {
   "cell_type": "code",
   "execution_count": 5,
   "metadata": {},
   "outputs": [
    {
     "name": "stdout",
     "output_type": "stream",
     "text": [
      "result: True\n"
     ]
    },
    {
     "ename": "",
     "evalue": "",
     "output_type": "error",
     "traceback": [
      "\u001b[1;31mThe Kernel crashed while executing code in the current cell or a previous cell. \n",
      "\u001b[1;31mPlease review the code in the cell(s) to identify a possible cause of the failure. \n",
      "\u001b[1;31mClick <a href='https://aka.ms/vscodeJupyterKernelCrash'>here</a> for more info. \n",
      "\u001b[1;31mView Jupyter <a href='command:jupyter.viewOutput'>log</a> for further details."
     ]
    }
   ],
   "source": [
    "if prover9_program.flag:  # 检查解析是否成功\n",
    "    answer, error_message = prover9_program.execute_program()\n",
    "    print(f\"result: {answer}\")\n",
    "    if error_message:\n",
    "        print(f\"error message: {error_message}\")\n",
    "else:\n",
    "    print(\"logic program parsing failed\")"
   ]
  }
 ],
 "metadata": {
  "kernelspec": {
   "display_name": "logiclm",
   "language": "python",
   "name": "python3"
  },
  "language_info": {
   "codemirror_mode": {
    "name": "ipython",
    "version": 3
   },
   "file_extension": ".py",
   "mimetype": "text/x-python",
   "name": "python",
   "nbconvert_exporter": "python",
   "pygments_lexer": "ipython3",
   "version": "3.10.18"
  }
 },
 "nbformat": 4,
 "nbformat_minor": 2
}
