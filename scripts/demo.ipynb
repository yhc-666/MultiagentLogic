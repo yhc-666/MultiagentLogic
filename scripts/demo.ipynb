{
  "cells": [
    {
      "cell_type": "markdown",
      "metadata": {
        "id": "view-in-github",
        "colab_type": "text"
      },
      "source": [
        "<a href=\"https://colab.research.google.com/github/yhc-666/MultiagentLogic/blob/master/scripts/demo.ipynb\" target=\"_parent\"><img src=\"https://colab.research.google.com/assets/colab-badge.svg\" alt=\"Open In Colab\"/></a>"
      ]
    },
    {
      "cell_type": "code",
      "execution_count": 23,
      "metadata": {
        "colab": {
          "base_uri": "https://localhost:8080/"
        },
        "id": "_EKJfF0012GJ",
        "outputId": "9a2d7ea7-57de-457d-8caa-2f980de2fe6a"
      },
      "outputs": [
        {
          "output_type": "stream",
          "name": "stdout",
          "text": [
            "Cloning into 'MultiagentLogic'...\n",
            "remote: Enumerating objects: 1037, done.\u001b[K\n",
            "remote: Counting objects: 100% (1037/1037), done.\u001b[K\n",
            "remote: Compressing objects: 100% (808/808), done.\u001b[K\n",
            "remote: Total 1037 (delta 287), reused 913 (delta 209), pack-reused 0 (from 0)\u001b[K\n",
            "Receiving objects: 100% (1037/1037), 6.15 MiB | 10.84 MiB/s, done.\n",
            "Resolving deltas: 100% (287/287), done.\n",
            "/content/MultiagentLogic/MultiagentLogic/MultiagentLogic\n"
          ]
        }
      ],
      "source": [
        "!git clone https://github.com/yhc-666/MultiagentLogic.git\n",
        "%cd MultiagentLogic"
      ]
    },
    {
      "cell_type": "code",
      "source": [
        "!pip install -r requirements.txt"
      ],
      "metadata": {
        "id": "Bs_i4xMP9KHX",
        "outputId": "b85abdad-5e5a-4685-8243-e127dad33003",
        "colab": {
          "base_uri": "https://localhost:8080/"
        }
      },
      "execution_count": 24,
      "outputs": [
        {
          "output_type": "stream",
          "name": "stdout",
          "text": [
            "Requirement already satisfied: scitools-pyke in /usr/local/lib/python3.11/dist-packages (from -r requirements.txt (line 1)) (1.1.1)\n",
            "Requirement already satisfied: nltk in /usr/local/lib/python3.11/dist-packages (from -r requirements.txt (line 2)) (3.9.1)\n",
            "Requirement already satisfied: python-constraint in /usr/local/lib/python3.11/dist-packages (from -r requirements.txt (line 3)) (1.4.0)\n",
            "Requirement already satisfied: func_timeout in /usr/local/lib/python3.11/dist-packages (from -r requirements.txt (line 4)) (4.3.5)\n",
            "Requirement already satisfied: z3-solver in /usr/local/lib/python3.11/dist-packages (from -r requirements.txt (line 5)) (4.15.1.0)\n",
            "Requirement already satisfied: ply in /usr/local/lib/python3.11/dist-packages (from -r requirements.txt (line 6)) (3.11)\n",
            "Requirement already satisfied: tqdm in /usr/local/lib/python3.11/dist-packages (from -r requirements.txt (line 7)) (4.67.1)\n",
            "Requirement already satisfied: click in /usr/local/lib/python3.11/dist-packages (from nltk->-r requirements.txt (line 2)) (8.2.1)\n",
            "Requirement already satisfied: joblib in /usr/local/lib/python3.11/dist-packages (from nltk->-r requirements.txt (line 2)) (1.5.1)\n",
            "Requirement already satisfied: regex>=2021.8.3 in /usr/local/lib/python3.11/dist-packages (from nltk->-r requirements.txt (line 2)) (2024.11.6)\n"
          ]
        }
      ]
    },
    {
      "cell_type": "code",
      "execution_count": 25,
      "metadata": {
        "id": "ZKQnmSCs2XUx"
      },
      "outputs": [],
      "source": [
        "from src.symbolic_solvers.fol_solver.prover9_solver import FOL_Prover9_Program\n",
        "from src.symbolic_solvers.pyke_solver.pyke_solver import Pyke_Program\n",
        "from src.symbolic_solvers.z3_solver.sat_problem_solver import LSAT_Z3_Program"
      ]
    },
    {
      "cell_type": "markdown",
      "metadata": {
        "id": "OV6SJamk0c7Y"
      },
      "source": [
        "## Pyke Solver"
      ]
    },
    {
      "cell_type": "code",
      "execution_count": null,
      "metadata": {
        "id": "R8Q3pril0c7Y"
      },
      "outputs": [],
      "source": [
        "sample_lp_program = \"Predicates:\\nCold($x, bool) ::: Is x cold?\\nQuiet($x, bool) ::: Is x quiet?\\nRed($x, bool) ::: Is x red?\\nSmart($x, bool) ::: Is x smart?\\nKind($x, bool) ::: Is x kind?\\nRough($x, bool) ::: Is x rough?\\nRound($x, bool) ::: Is x round?\\nFacts:\\nCold(Bob, True) ::: Bob is cold.\\nQuiet(Bob, True) ::: Bob is quiet.\\nRed(Bob, True) ::: Bob is red.\\nSmart(Bob, True) ::: Bob is smart.\\nKind(Charlie, True) ::: Charlie is kind.\\nQuiet(Charlie, True) ::: Charlie is quiet.\\nRed(Charlie, True) ::: Charlie is red.\\nRough(Charlie, True) ::: Charlie is rough.\\nCold(Dave, True) ::: Dave is cold.\\nKind(Dave, True) ::: Dave is kind.\\nSmart(Dave, True) ::: Dave is smart.\\nQuiet(Fiona, True) ::: Fiona is quiet.\\nRules:\\nQuiet($x, True) && Cold($x, True) >>> Smart($x, True) ::: If something is quiet and cold then it is smart.\\nRed($x, True) && Cold($x, True) >>> Round($x, True) ::: Red, cold things are round.\\nKind($x, True) && Rough($x, True) >>> Red($x, True) ::: If something is kind and rough then it is red.\\nQuiet($x, True) >>> Rough($x, True) ::: All quiet things are rough.\\nCold($x, True) && Smart($x, True) >>> Red($x, True) ::: Cold, smart things are red.\\nRough($x, True) >>> Cold($x, True) ::: If something is rough then it is cold.\\nRed($x, True) >>> Rough($x, True) ::: All red things are rough.\\nSmart(Dave, True) && Kind(Dave, True) >>> Quiet(Dave, True) ::: If Dave is smart and Dave is kind then Dave is quiet.\\nQuery:\\nKind(Charlie, True) ::: Charlie is kind.\""
      ]
    },
    {
      "cell_type": "code",
      "execution_count": null,
      "metadata": {
        "id": "9grceLZN0c7Y"
      },
      "outputs": [],
      "source": [
        "pyke_program = Pyke_Program(sample_lp_program, 'ProofWriter')\n",
        "result, error_message, reasoning = pyke_program.execute_with_reasoning()"
      ]
    },
    {
      "cell_type": "code",
      "execution_count": null,
      "metadata": {
        "colab": {
          "base_uri": "https://localhost:8080/"
        },
        "id": "3j4lFg2P0c7Y",
        "outputId": "4ce77d13-8f30-47e6-f1f7-9da78a4d256f"
      },
      "outputs": [
        {
          "name": "stdout",
          "output_type": "stream",
          "text": [
            "================================================================================\n",
            "Complete Reasoning Path:\n",
            "================================================================================\n",
            "We first define following predicates and corresponding natural language explanations:\n",
            "  Cold($x, bool) ::: Is x cold?\n",
            "  Quiet($x, bool) ::: Is x quiet?\n",
            "  Red($x, bool) ::: Is x red?\n",
            "  Smart($x, bool) ::: Is x smart?\n",
            "  Kind($x, bool) ::: Is x kind?\n",
            "  Rough($x, bool) ::: Is x rough?\n",
            "  Round($x, bool) ::: Is x round?\n",
            "We have following known facts from the context:\n",
            "  Cold(Bob, True) ::: Bob is cold.\n",
            "  Quiet(Bob, True) ::: Bob is quiet.\n",
            "  Red(Bob, True) ::: Bob is red.\n",
            "  Smart(Bob, True) ::: Bob is smart.\n",
            "  Kind(Charlie, True) ::: Charlie is kind.\n",
            "  Quiet(Charlie, True) ::: Charlie is quiet.\n",
            "  Red(Charlie, True) ::: Charlie is red.\n",
            "  Rough(Charlie, True) ::: Charlie is rough.\n",
            "  Cold(Dave, True) ::: Dave is cold.\n",
            "  Kind(Dave, True) ::: Dave is kind.\n",
            "  Smart(Dave, True) ::: Dave is smart.\n",
            "  Quiet(Fiona, True) ::: Fiona is quiet.\n",
            "We have following known rules from the context:\n",
            "  rule1: Quiet($x, True) && Cold($x, True) >>> Smart($x, True)\n",
            "  rule2: Red($x, True) && Cold($x, True) >>> Round($x, True)\n",
            "  rule3: Kind($x, True) && Rough($x, True) >>> Red($x, True)\n",
            "  rule4: Quiet($x, True) >>> Rough($x, True)\n",
            "  rule5: Cold($x, True) && Smart($x, True) >>> Red($x, True)\n",
            "  rule6: Rough($x, True) >>> Cold($x, True)\n",
            "  rule7: Red($x, True) >>> Rough($x, True)\n",
            "  rule8: Smart(Dave, True) && Kind(Dave, True) >>> Quiet(Dave, True)\n",
            "Now begin reasoning to obtain all implied facts:\n",
            "Use rule1: Quiet($x, True) && Cold($x, True) >>> Smart($x, True)\n",
            "Bind $x to 'Bob'\n",
            "Obtain an already known or implied fact: Smart('Bob', True)\n",
            "Unbind $x\n",
            "Bind $x to 'Charlie'\n",
            "Unbind $x\n",
            "Bind $x to 'Fiona'\n",
            "Unbind $x\n",
            "Finish implied with rule1\n",
            "Use rule2: Red($x, True) && Cold($x, True) >>> Round($x, True)\n",
            "Bind $x to 'Bob'\n",
            "Obtain a new implied fact: Round('Bob', True)\n",
            "Unbind $x\n",
            "Bind $x to 'Charlie'\n",
            "Unbind $x\n",
            "Finish implied with rule2\n",
            "Use rule3: Kind($x, True) && Rough($x, True) >>> Red($x, True)\n",
            "Bind $x to 'Charlie'\n",
            "Obtain an already known or implied fact: Red('Charlie', True)\n",
            "Unbind $x\n",
            "Bind $x to 'Dave'\n",
            "Unbind $x\n",
            "Finish implied with rule3\n",
            "Use rule4: Quiet($x, True) >>> Rough($x, True)\n",
            "Bind $x to 'Bob'\n",
            "Obtain a new implied fact: Rough('Bob', True)\n",
            "Reuse rule3: Kind($x, True) && Rough($x, True) >>> Red($x, True)\n",
            "Bind $x to 'Bob'\n",
            "Finish implied with rule3\n",
            "Use rule6: Rough($x, True) >>> Cold($x, True)\n",
            "Finish implied with rule6\n",
            "Reuse rule3: Kind($x, True) && Rough($x, True) >>> Red($x, True)\n",
            "Bind $x to 'Fiona'\n",
            "Finish implied with rule3\n",
            "Reuse rule6: Rough($x, True) >>> Cold($x, True)\n",
            "Finish implied with rule6\n",
            "Finish implied with rule4\n",
            "Use rule5: Cold($x, True) && Smart($x, True) >>> Red($x, True)\n",
            "Bind $x to 'Bob'\n",
            "Obtain an already known or implied fact: Red('Bob', True)\n",
            "Unbind $x\n",
            "Bind $x to 'Dave'\n",
            "Obtain a new implied fact: Red('Dave', True)\n",
            "Reuse rule2: Red($x, True) && Cold($x, True) >>> Round($x, True)\n",
            "Bind $x to 'Dave'\n",
            "Obtain a new implied fact: Round('Dave', True)\n",
            "Finish implied with rule2\n",
            "Use rule7: Red($x, True) >>> Rough($x, True)\n",
            "Finish implied with rule7\n",
            "Finish implied with rule5\n",
            "Reuse rule6: Rough($x, True) >>> Cold($x, True)\n",
            "Bind $x to 'Charlie'\n",
            "Obtain a new implied fact: Cold('Charlie', True)\n",
            "Reuse rule1: Quiet($x, True) && Cold($x, True) >>> Smart($x, True)\n",
            "Bind $x to 'Charlie'\n",
            "Obtain a new implied fact: Smart('Charlie', True)\n",
            "Reuse rule5: Cold($x, True) && Smart($x, True) >>> Red($x, True)\n",
            "Bind $x to 'Charlie'\n",
            "Obtain an already known or implied fact: Red('Charlie', True)\n",
            "Finish implied with rule5\n",
            "Use rule8: Smart(Dave, True) && Kind(Dave, True) >>> Quiet(Dave, True)\n",
            "Finish implied with rule8\n",
            "Finish implied with rule1\n",
            "Reuse rule2: Red($x, True) && Cold($x, True) >>> Round($x, True)\n",
            "Bind $x to 'Charlie'\n",
            "Obtain a new implied fact: Round('Charlie', True)\n",
            "Finish implied with rule2\n",
            "Reuse rule5: Cold($x, True) && Smart($x, True) >>> Red($x, True)\n",
            "Bind $x to 'Charlie'\n",
            "Obtain an already known or implied fact: Red('Charlie', True)\n",
            "Finish implied with rule5\n",
            "Reuse rule1: Quiet($x, True) && Cold($x, True) >>> Smart($x, True)\n",
            "Bind $x to 'Fiona'\n",
            "Obtain a new implied fact: Smart('Fiona', True)\n",
            "Reuse rule5: Cold($x, True) && Smart($x, True) >>> Red($x, True)\n",
            "Bind $x to 'Fiona'\n",
            "Obtain a new implied fact: Red('Fiona', True)\n",
            "Reuse rule2: Red($x, True) && Cold($x, True) >>> Round($x, True)\n",
            "Bind $x to 'Fiona'\n",
            "Obtain a new implied fact: Round('Fiona', True)\n",
            "Finish implied with rule2\n",
            "Reuse rule7: Red($x, True) >>> Rough($x, True)\n",
            "Finish implied with rule7\n",
            "Finish implied with rule5\n",
            "Reuse rule8: Smart(Dave, True) && Kind(Dave, True) >>> Quiet(Dave, True)\n",
            "Finish implied with rule8\n",
            "Finish implied with rule1\n",
            "Reuse rule2: Red($x, True) && Cold($x, True) >>> Round($x, True)\n",
            "Bind $x to 'Fiona'\n",
            "Obtain an already known or implied fact: Round('Fiona', True)\n",
            "Finish implied with rule2\n",
            "Reuse rule5: Cold($x, True) && Smart($x, True) >>> Red($x, True)\n",
            "Bind $x to 'Fiona'\n",
            "Obtain an already known or implied fact: Red('Fiona', True)\n",
            "Finish implied with rule5\n",
            "Finish implied with rule6\n",
            "Reuse rule7: Red($x, True) >>> Rough($x, True)\n",
            "Bind $x to 'Bob'\n",
            "Obtain an already known or implied fact: Rough('Bob', True)\n",
            "Unbind $x\n",
            "Bind $x to 'Charlie'\n",
            "Obtain an already known or implied fact: Rough('Charlie', True)\n",
            "Unbind $x\n",
            "Bind $x to 'Dave'\n",
            "Obtain a new implied fact: Rough('Dave', True)\n",
            "Reuse rule3: Kind($x, True) && Rough($x, True) >>> Red($x, True)\n",
            "Bind $x to 'Dave'\n",
            "Obtain an already known or implied fact: Red('Dave', True)\n",
            "Finish implied with rule3\n",
            "Reuse rule6: Rough($x, True) >>> Cold($x, True)\n",
            "Bind $x to 'Dave'\n",
            "Obtain an already known or implied fact: Cold('Dave', True)\n",
            "Finish implied with rule6\n",
            "Finish implied with rule7\n",
            "Reuse rule8: Smart(Dave, True) && Kind(Dave, True) >>> Quiet(Dave, True)\n",
            "Obtain a new implied fact: Quiet('Dave', True)\n",
            "Reuse rule1: Quiet($x, True) && Cold($x, True) >>> Smart($x, True)\n",
            "Bind $x to 'Dave'\n",
            "Obtain an already known or implied fact: Smart('Dave', True)\n",
            "Finish implied with rule1\n",
            "Reuse rule4: Quiet($x, True) >>> Rough($x, True)\n",
            "Bind $x to 'Dave'\n",
            "Obtain an already known or implied fact: Rough('Dave', True)\n",
            "Finish implied with rule4\n",
            "Finish implied with rule8\n",
            "All newly implied Facts: Cold('Charlie', True), Quiet('Dave', True), Red('Dave', True), Red('Fiona', True), Rough('Bob', True), Rough('Dave', True), Round('Bob', True), Round('Charlie', True), Round('Dave', True), Round('Fiona', True), Smart('Charlie', True), Smart('Fiona', True)\n",
            "Finish reasoning\n",
            "\n",
            "================================================================================\n",
            "total tokens: 6295\n",
            "num of lines: 158\n",
            "================================================================================\n"
          ]
        }
      ],
      "source": [
        "print(reasoning)"
      ]
    },
    {
      "cell_type": "markdown",
      "metadata": {
        "id": "601Uc7rc0c7Z"
      },
      "source": [
        "## Prove9 Solver"
      ]
    },
    {
      "cell_type": "markdown",
      "metadata": {
        "id": "EQ6-dsLj3Jht"
      },
      "source": [
        "### Case1: Answer is Ture"
      ]
    },
    {
      "cell_type": "code",
      "execution_count": 26,
      "metadata": {
        "id": "MBBvu7_I0c7Z"
      },
      "outputs": [],
      "source": [
        "logic_program_t = \"\"\"Premises:\n",
        "    ∀x (Drinks(x) → Dependent(x)) ::: All people who regularly drink coffee are dependent on caffeine.\n",
        "    ∀x (Drinks(x) ⊕ Jokes(x)) ::: People either regularly drink coffee or joke about being addicted to caffeine.\n",
        "    ∀x (Jokes(x) → ¬Unaware(x)) ::: No one who jokes about being addicted to caffeine is unaware that caffeine is a drug.\n",
        "    (Student(rina) ∧ Unaware(rina)) ⊕ ¬(Student(rina) ∨ Unaware(rina)) ::: Rina is either a student and unaware that caffeine is a drug, or neither a student nor unaware that caffeine is a drug.\n",
        "    ¬(Dependent(rina) ∧ Student(rina)) → (Dependent(rina) ∧ Student(rina)) ⊕ ¬(Dependent(rina) ∨ Student(rina)) ::: If Rina is not a person dependent on caffeine and a student, then Rina is either a person dependent on caffeine and a student, or neither a person dependent on caffeine nor a student.\n",
        "    Conclusion:\n",
        "    Jokes(rina) ⊕ Unaware(rina) ::: Rina is either a person who jokes about being addicted to caffeine or is unaware that caffeine is a drug.\n",
        "    \"\"\""
      ]
    },
    {
      "cell_type": "code",
      "execution_count": 27,
      "metadata": {
        "id": "aA59eo7K0c7Z"
      },
      "outputs": [],
      "source": [
        "prover9_program = FOL_Prover9_Program(logic_program_t)"
      ]
    },
    {
      "cell_type": "code",
      "execution_count": 28,
      "metadata": {
        "colab": {
          "base_uri": "https://localhost:8080/"
        },
        "id": "0QZ4wddn0c7Z",
        "outputId": "f076c8b1-fddd-4a8d-953f-e0f57c685783"
      },
      "outputs": [
        {
          "output_type": "stream",
          "name": "stdout",
          "text": [
            "result: True\n"
          ]
        }
      ],
      "source": [
        "result, error_message, reasoning = prover9_program.execute_program()\n",
        "print(f\"result: {result}\")"
      ]
    },
    {
      "cell_type": "code",
      "execution_count": 29,
      "metadata": {
        "colab": {
          "base_uri": "https://localhost:8080/"
        },
        "id": "hrrRFLnu3Hq_",
        "outputId": "9e377342-f8c4-49f8-ed5f-4470142a43d6"
      },
      "outputs": [
        {
          "output_type": "stream",
          "name": "stdout",
          "text": [
            "prove original conclusion:\n",
            "1 (all x (Drinks(x) -> Dependent(x))).  [assumption].\n",
            "2 (all x (Drinks(x) & -Jokes(x) | -Drinks(x) & Jokes(x))).  [assumption].\n",
            "3 (all x (Jokes(x) -> -Unaware(x))).  [assumption].\n",
            "4 Student(Rina) & Unaware(Rina) & --(Student(Rina) | Unaware(Rina)) | -(Student(Rina) & Unaware(Rina)) & -(Student(Rina) | Unaware(Rina)).  [assumption].\n",
            "5 (-(Dependent(Rina) & Student(Rina)) -> Dependent(Rina) & Student(Rina)) & --(Dependent(Rina) | Student(Rina)) | -(-(Dependent(Rina) & Student(Rina)) -> Dependent(Rina) & Student(Rina)) & -(Dependent(Rina) | Student(Rina)).  [assumption].\n",
            "6 Jokes(Rina) & -Unaware(Rina) | -Jokes(Rina) & Unaware(Rina).  [goal].\n",
            "7 Drinks(x) | Jokes(x).  [clausify(2)].\n",
            "8 -Drinks(x) | Dependent(x).  [clausify(1)].\n",
            "10 Jokes(Rina) | -Unaware(Rina).  [deny(6)].\n",
            "11 -Jokes(x) | -Unaware(x).  [clausify(3)].\n",
            "12 -Jokes(Rina) | Unaware(Rina).  [deny(6)].\n",
            "13 Jokes(x) | Dependent(x).  [resolve(7,a,8,a)].\n",
            "14 Unaware(Rina) | -Student(Rina).  [clausify(4)].\n",
            "17 Student(Rina) | -Dependent(Rina).  [clausify(5)].\n",
            "18 -Dependent(Rina) | Unaware(Rina).  [resolve(17,a,14,b)].\n",
            "20 Dependent(Rina) | Unaware(Rina).  [resolve(13,a,12,a)].\n",
            "21 -Unaware(Rina) | -Unaware(Rina).  [resolve(10,a,11,a)].\n",
            "22 -Unaware(Rina).  [copy(21),merge(b)].\n",
            "23 Unaware(Rina) | Unaware(Rina).  [resolve(18,a,20,a)].\n",
            "24 $F.  [copy(23),merge(b),unit_del(a,22)].\n"
          ]
        }
      ],
      "source": [
        "print(reasoning)"
      ]
    },
    {
      "cell_type": "markdown",
      "metadata": {
        "id": "XAlS4L3s3TKR"
      },
      "source": [
        "### Case2: Answer is fasle"
      ]
    },
    {
      "cell_type": "code",
      "execution_count": 30,
      "metadata": {
        "id": "QdnEzNg03wpi"
      },
      "outputs": [],
      "source": [
        "logic_program_f = \"\"\"Premises:\n",
        "    Czech(miroslav) ∧ ChoralConductor(miroslav) ∧ Specialize(miroslav, renaissance) ∧ Specialize(miroslav, baroque) ::: Miroslav Venhoda was a Czech choral conductor who specialized in the performance of Renaissance and Baroque music.\n",
        "    ∀x (ChoralConductor(x) → Musician(x)) ::: Any choral conductor is a musician.\n",
        "    ∃x (Musician(x) ∧ Love(x, music)) ::: Some musicians love music.\n",
        "    Book(methodOfStudyingGregorianChant) ∧ Author(miroslav, methodOfStudyingGregorianChant) ∧ Publish(methodOfStudyingGregorianChant, year1946) ::: Miroslav Venhoda published a book in 1946 called Method of Studying Gregorian Chant.\n",
        "    Conclusion:\n",
        "    ¬∃x (ChoralConductor(x) ∧ Specialize(x, renaissance)) ::: No choral conductor specialized in the performance of Renaissance.\n",
        "    \"\"\""
      ]
    },
    {
      "cell_type": "code",
      "execution_count": 31,
      "metadata": {
        "id": "Yl6KOmpd4HxF"
      },
      "outputs": [],
      "source": [
        "prover9_program = FOL_Prover9_Program(logic_program_f)"
      ]
    },
    {
      "cell_type": "code",
      "execution_count": 32,
      "metadata": {
        "colab": {
          "base_uri": "https://localhost:8080/"
        },
        "id": "-endFynO4MGM",
        "outputId": "946d8315-2501-4e3e-fbe5-d91869fb7f47"
      },
      "outputs": [
        {
          "output_type": "stream",
          "name": "stdout",
          "text": [
            "result: False\n"
          ]
        }
      ],
      "source": [
        "result, error_message, reasoning = prover9_program.execute_program()\n",
        "print(f\"result: {result}\")"
      ]
    },
    {
      "cell_type": "code",
      "execution_count": 33,
      "metadata": {
        "colab": {
          "base_uri": "https://localhost:8080/"
        },
        "id": "OQiwF2UJ4OPH",
        "outputId": "d3b51ccf-1700-4bf8-a4de-0332524f0f32"
      },
      "outputs": [
        {
          "output_type": "stream",
          "name": "stdout",
          "text": [
            "prove negation of original conclusion:\n",
            "1 Czech(Miroslav) & ChoralConductor(Miroslav) & Specialize(Miroslav,Renaissance) & Specialize(Miroslav,Baroque).  [assumption].\n",
            "5 --(exists x (ChoralConductor(x) & Specialize(x,Renaissance))).  [goal].\n",
            "7 ChoralConductor(Miroslav).  [clausify(1)].\n",
            "8 -ChoralConductor(x) | -Specialize(x,Renaissance).  [deny(5)].\n",
            "9 -Specialize(Miroslav,Renaissance).  [resolve(8,a,7,a)].\n",
            "10 Specialize(Miroslav,Renaissance).  [clausify(1)].\n",
            "12 $F.  [resolve(9,a,10,a)].\n"
          ]
        }
      ],
      "source": [
        "print(reasoning)"
      ]
    },
    {
      "cell_type": "markdown",
      "metadata": {
        "id": "g3nfgyBt4Tow"
      },
      "source": [
        "### Case3: Answer is unkonw"
      ]
    },
    {
      "cell_type": "code",
      "execution_count": 34,
      "metadata": {
        "id": "YWaMrmwC4Y-0"
      },
      "outputs": [],
      "source": [
        "logic_program_unk = \"\"\"Premises:\n",
        "    ∀x (TalentShows(x) → Engaged(x)) ::: If people perform in school talent shows often, then they attend and are very engaged with school events.\n",
        "    ∀x (TalentShows(x) ∨ Inactive(x)) ::: People either perform in school talent shows often or are inactive and disinterested members of their community.\n",
        "    ∀x (Chaperone(x) → ¬Students(x)) ::: If people chaperone high school dances, then they are not students who attend the school.\n",
        "    ∀x (Inactive(x) → Chaperone(x)) ::: All people who are inactive and disinterested members of their community chaperone high school dances.\n",
        "    ∀x (AcademicCareer(x) → Students(x)) ::: All young children and teenagers who wish to further their academic careers and educational opportunities are students who attend the school.\n",
        "    Conclusion:\n",
        "    TalentShows(bonnie) ::: Bonnie performs in school talent shows often.\n",
        "    \"\"\""
      ]
    },
    {
      "cell_type": "code",
      "execution_count": 35,
      "metadata": {
        "id": "ZgwRc4EJ4ag-"
      },
      "outputs": [],
      "source": [
        "prover9_program = FOL_Prover9_Program(logic_program_unk)"
      ]
    },
    {
      "cell_type": "code",
      "execution_count": 36,
      "metadata": {
        "colab": {
          "base_uri": "https://localhost:8080/"
        },
        "id": "1WZV8RZk4c1T",
        "outputId": "3c697acb-e5c9-4d81-dd74-c0fac82bb76a"
      },
      "outputs": [
        {
          "output_type": "stream",
          "name": "stdout",
          "text": [
            "result: Unknown\n"
          ]
        }
      ],
      "source": [
        "result, error_message, reasoning = prover9_program.execute_program()\n",
        "print(f\"result: {result}\")"
      ]
    },
    {
      "cell_type": "code",
      "execution_count": 37,
      "metadata": {
        "colab": {
          "base_uri": "https://localhost:8080/"
        },
        "id": "aYXQuOY64d8U",
        "outputId": "07d3dbb7-3615-451d-8640-61debdb73b30"
      },
      "outputs": [
        {
          "output_type": "stream",
          "name": "stdout",
          "text": [
            "trying to prove original conclusion:\n",
            "1 (all x (TalentShows(x) -> Engaged(x))) # label(non_clause). [assumption].\n",
            "2 (all x (TalentShows(x) | Inactive(x))) # label(non_clause). [assumption].\n",
            "3 (all x (Chaperone(x) -> -Students(x))) # label(non_clause). [assumption].\n",
            "4 (all x (Inactive(x) -> Chaperone(x))) # label(non_clause). [assumption].\n",
            "5 (all x (AcademicCareer(x) -> Students(x))) # label(non_clause). [assumption].\n",
            "6 TalentShows(Bonnie) # label(non_clause) # label(goal). [goal].\n",
            "7 -TalentShows(x) | Engaged(x). [clausify(1)].\n",
            "8 TalentShows(x) | Inactive(x). [clausify(2)].\n",
            "9 -Chaperone(x) | -Students(x). [clausify(3)].\n",
            "10 -Inactive(x) | Chaperone(x). [clausify(4)].\n",
            "11 -AcademicCareer(x) | Students(x). [clausify(5)].\n",
            "12 -TalentShows(Bonnie). [deny(6)].\n",
            "13 Derived: Inactive(x) | Engaged(x). [resolve(8,a,7,a)].\n",
            "14 Derived: Inactive(Bonnie). [resolve(12,a,8,a)].\n",
            "15 Derived: -Inactive(x) | -Students(x). [resolve(10,b,9,a)].\n",
            "16 Derived: -Students(x) | Engaged(x). [resolve(15,a,13,a)].\n",
            "17 Derived: -Students(Bonnie). [resolve(15,a,14,a)].\n",
            "-- Search terminated, no contradiction found --\n",
            "\n",
            "trying to prove negation of original conclusion:\n",
            "1 (all x (TalentShows(x) -> Engaged(x))) # label(non_clause). [assumption].\n",
            "2 (all x (TalentShows(x) | Inactive(x))) # label(non_clause). [assumption].\n",
            "3 (all x (Chaperone(x) -> -Students(x))) # label(non_clause). [assumption].\n",
            "4 (all x (Inactive(x) -> Chaperone(x))) # label(non_clause). [assumption].\n",
            "5 (all x (AcademicCareer(x) -> Students(x))) # label(non_clause). [assumption].\n",
            "6 -TalentShows(Bonnie) # label(non_clause) # label(goal). [goal].\n",
            "7 -TalentShows(x) | Engaged(x). [clausify(1)].\n",
            "8 TalentShows(x) | Inactive(x). [clausify(2)].\n",
            "9 -Chaperone(x) | -Students(x). [clausify(3)].\n",
            "10 -Inactive(x) | Chaperone(x). [clausify(4)].\n",
            "11 -AcademicCareer(x) | Students(x). [clausify(5)].\n",
            "12 TalentShows(Bonnie). [deny(6)].\n",
            "13 Derived: Inactive(x) | Engaged(x). [resolve(8,a,7,a)].\n",
            "14 Derived: Engaged(Bonnie). [resolve(12,a,7,a)].\n",
            "15 Derived: -Inactive(x) | -Students(x). [resolve(10,b,9,a)].\n",
            "16 Derived: -Students(x) | Engaged(x). [resolve(15,a,13,a)].\n",
            "-- Search terminated, no contradiction found --\n",
            "\n",
            "So: Unknown\n"
          ]
        }
      ],
      "source": [
        "print(reasoning)"
      ]
    },
    {
      "cell_type": "markdown",
      "metadata": {
        "id": "e3GQmpSZ9Dxv"
      },
      "source": [
        "## SAT solver"
      ]
    },
    {
      "cell_type": "markdown",
      "metadata": {
        "id": "nOVmaZFZ9Dxv"
      },
      "source": [
        "### Case1: Execution successful"
      ]
    },
    {
      "cell_type": "code",
      "execution_count": 38,
      "metadata": {
        "id": "hqCzRgIc4jhr"
      },
      "outputs": [],
      "source": [
        "completion = '''# declare variables\n",
        "CD_types = EnumSort([jazz, opera, pop, rap, soul])\n",
        "new_used = EnumSort([new, used])\n",
        "on_sale = Function([CD_types, new_used] -> [bool])\n",
        "\n",
        "# constraints\n",
        "# Used pop is on sale; new opera is not\n",
        "And(on_sale(pop, used), Not(on_sale(opera, new)))\n",
        "\n",
        "# If both types of pop are on sale, then all soul is\n",
        "Implies(And(on_sale(pop, new), on_sale(pop, used)), And(on_sale(soul, new), on_sale(soul, used)))\n",
        "\n",
        "# If both types of jazz are on sale, then no rap is\n",
        "Implies(And(on_sale(jazz, new), on_sale(jazz, used)), ForAll([nu:new_used], Not(on_sale(rap, nu))))\n",
        "\n",
        "# If neither type of jazz is on sale, then new pop is\n",
        "Implies(And(Not(on_sale(jazz, new)), Not(on_sale(jazz, used))), on_sale(pop, new))\n",
        "\n",
        "# If either type of rap is on sale, then no soul is\n",
        "Implies(Or(on_sale(rap, new), on_sale(rap, used)), ForAll([nu:new_used], Not(on_sale(soul, nu))))\n",
        "\n",
        "# If exactly four of the five types of used CDs are the only CDs on sale\n",
        "And(Count([t:CD_types], on_sale(t, used)) == 4, Count([t:CD_types], on_sale(t, new)) == 0)\n",
        "\n",
        "# we check which one of the following could be true?\n",
        "# (A) Used jazz is not on sale\n",
        "is_sat(Not(on_sale(jazz, used)))\n",
        "\n",
        "# (B) Used opera is not on sale\n",
        "is_sat(Not(on_sale(opera, used)))\n",
        "\n",
        "# (C) Used rap is not on sale\n",
        "is_sat(Not(on_sale(rap, used)))\n",
        "\n",
        "# (D) Neither type of jazz is on sale\n",
        "is_sat(And(Not(on_sale(jazz, new)), Not(on_sale(jazz, used))))\n",
        "\n",
        "# (E) Neither type of rap and neither type of soul is on sale\n",
        "is_sat(And(Not(on_sale(rap, new)), Not(on_sale(rap, used)), Not(on_sale(soul, new)), Not(on_sale(soul, used))))'''\n"
      ]
    },
    {
      "cell_type": "code",
      "source": [
        "z3_program = LSAT_Z3_Program(completion, 'AR-LSAT')\n",
        "output, error_message, proof = z3_program.execute_program()"
      ],
      "metadata": {
        "id": "VtJrPZaI9r5K",
        "outputId": "7be11ab7-6654-442b-f410-62ac72611271",
        "colab": {
          "base_uri": "https://localhost:8080/",
          "height": 280
        }
      },
      "execution_count": 39,
      "outputs": [
        {
          "output_type": "error",
          "ename": "AttributeError",
          "evalue": "'LSAT_Z3_Program' object has no attribute 'cache_dir'",
          "traceback": [
            "\u001b[0;31m---------------------------------------------------------------------------\u001b[0m",
            "\u001b[0;31mAttributeError\u001b[0m                            Traceback (most recent call last)",
            "\u001b[0;32m/tmp/ipython-input-39-3006301113.py\u001b[0m in \u001b[0;36m<cell line: 0>\u001b[0;34m()\u001b[0m\n\u001b[1;32m      1\u001b[0m \u001b[0mz3_program\u001b[0m \u001b[0;34m=\u001b[0m \u001b[0mLSAT_Z3_Program\u001b[0m\u001b[0;34m(\u001b[0m\u001b[0mcompletion\u001b[0m\u001b[0;34m,\u001b[0m \u001b[0;34m'AR-LSAT'\u001b[0m\u001b[0;34m)\u001b[0m\u001b[0;34m\u001b[0m\u001b[0;34m\u001b[0m\u001b[0m\n\u001b[0;32m----> 2\u001b[0;31m \u001b[0moutput\u001b[0m\u001b[0;34m,\u001b[0m \u001b[0merror_message\u001b[0m\u001b[0;34m,\u001b[0m \u001b[0mproof\u001b[0m \u001b[0;34m=\u001b[0m \u001b[0mz3_program\u001b[0m\u001b[0;34m.\u001b[0m\u001b[0mexecute_program\u001b[0m\u001b[0;34m(\u001b[0m\u001b[0;34m)\u001b[0m\u001b[0;34m\u001b[0m\u001b[0;34m\u001b[0m\u001b[0m\n\u001b[0m",
            "\u001b[0;32m/content/MultiagentLogic/src/symbolic_solvers/fol_solver/../../../src/symbolic_solvers/z3_solver/sat_problem_solver.py\u001b[0m in \u001b[0;36mexecute_program\u001b[0;34m(self)\u001b[0m\n\u001b[1;32m    176\u001b[0m \u001b[0;34m\u001b[0m\u001b[0m\n\u001b[1;32m    177\u001b[0m     \u001b[0;32mdef\u001b[0m \u001b[0mexecute_program\u001b[0m\u001b[0;34m(\u001b[0m\u001b[0mself\u001b[0m\u001b[0;34m)\u001b[0m\u001b[0;34m:\u001b[0m\u001b[0;34m\u001b[0m\u001b[0;34m\u001b[0m\u001b[0m\n\u001b[0;32m--> 178\u001b[0;31m         \u001b[0mfilename\u001b[0m \u001b[0;34m=\u001b[0m \u001b[0mjoin\u001b[0m\u001b[0;34m(\u001b[0m\u001b[0mself\u001b[0m\u001b[0;34m.\u001b[0m\u001b[0mcache_dir\u001b[0m\u001b[0;34m,\u001b[0m \u001b[0;34mf'tmp.py'\u001b[0m\u001b[0;34m)\u001b[0m\u001b[0;34m\u001b[0m\u001b[0;34m\u001b[0m\u001b[0m\n\u001b[0m\u001b[1;32m    179\u001b[0m         \u001b[0;32mwith\u001b[0m \u001b[0mopen\u001b[0m\u001b[0;34m(\u001b[0m\u001b[0mfilename\u001b[0m\u001b[0;34m,\u001b[0m \u001b[0;34m\"w\"\u001b[0m\u001b[0;34m)\u001b[0m \u001b[0;32mas\u001b[0m \u001b[0mf\u001b[0m\u001b[0;34m:\u001b[0m\u001b[0;34m\u001b[0m\u001b[0;34m\u001b[0m\u001b[0m\n\u001b[1;32m    180\u001b[0m             \u001b[0mf\u001b[0m\u001b[0;34m.\u001b[0m\u001b[0mwrite\u001b[0m\u001b[0;34m(\u001b[0m\u001b[0mself\u001b[0m\u001b[0;34m.\u001b[0m\u001b[0mstandard_code\u001b[0m\u001b[0;34m)\u001b[0m\u001b[0;34m\u001b[0m\u001b[0;34m\u001b[0m\u001b[0m\n",
            "\u001b[0;31mAttributeError\u001b[0m: 'LSAT_Z3_Program' object has no attribute 'cache_dir'"
          ]
        }
      ]
    },
    {
      "cell_type": "code",
      "source": [
        "print('ANSWER :', output[0] if output else None)\n",
        "print('ERR    :', error_message)"
      ],
      "metadata": {
        "id": "qLAU0mzt95Nz",
        "outputId": "6d5fa615-3830-4c95-9977-ce00f5af5a01",
        "colab": {
          "base_uri": "https://localhost:8080/"
        }
      },
      "execution_count": 14,
      "outputs": [
        {
          "output_type": "stream",
          "name": "stdout",
          "text": [
            "ANSWER : None\n",
            "ERR    : No Output\n"
          ]
        }
      ]
    },
    {
      "cell_type": "code",
      "source": [
        "print('PROOF:', proof)"
      ],
      "metadata": {
        "id": "K1DGkC_R9_ag",
        "outputId": "d6cb0869-c12a-40f1-f0c8-8e949267b95f",
        "colab": {
          "base_uri": "https://localhost:8080/"
        }
      },
      "execution_count": 15,
      "outputs": [
        {
          "output_type": "stream",
          "name": "stdout",
          "text": [
            "PROOF: \n"
          ]
        }
      ]
    },
    {
      "cell_type": "markdown",
      "metadata": {
        "id": "yB04SN_49Dxv"
      },
      "source": [
        "### Case2: Execution unsuccessful"
      ]
    },
    {
      "cell_type": "code",
      "source": [],
      "metadata": {
        "id": "HeplUMBu9T82"
      },
      "execution_count": null,
      "outputs": []
    }
  ],
  "metadata": {
    "colab": {
      "provenance": [],
      "include_colab_link": true
    },
    "kernelspec": {
      "display_name": "logiclm",
      "language": "python",
      "name": "python3"
    },
    "language_info": {
      "codemirror_mode": {
        "name": "ipython",
        "version": 3
      },
      "file_extension": ".py",
      "mimetype": "text/x-python",
      "name": "python",
      "nbconvert_exporter": "python",
      "pygments_lexer": "ipython3",
      "version": "3.10.18"
    }
  },
  "nbformat": 4,
  "nbformat_minor": 0
}