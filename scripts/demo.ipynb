{
  "cells": [
    {
      "cell_type": "markdown",
      "metadata": {
        "colab_type": "text",
        "id": "view-in-github"
      },
      "source": [
        "<a href=\"https://colab.research.google.com/github/yhc-666/MultiagentLogic/blob/master/scripts/demo.ipynb\" target=\"_parent\"><img src=\"https://colab.research.google.com/assets/colab-badge.svg\" alt=\"Open In Colab\"/></a>"
      ]
    },
    {
      "cell_type": "code",
      "execution_count": 1,
      "metadata": {
        "colab": {
          "base_uri": "https://localhost:8080/"
        },
        "id": "_EKJfF0012GJ",
        "outputId": "59d09553-bc11-401a-8e34-d0ba0e06b93f"
      },
      "outputs": [
        {
          "name": "stdout",
          "output_type": "stream",
          "text": [
            "fatal: destination path 'MultiagentLogic' already exists and is not an empty directory.\n",
            "/content/MultiagentLogic\n"
          ]
        }
      ],
      "source": [
        "!git clone https://github.com/yhc-666/MultiagentLogic.git\n",
        "%cd MultiagentLogic"
      ]
    },
    {
      "cell_type": "code",
      "execution_count": 1,
      "metadata": {
        "id": "ZKQnmSCs2XUx"
      },
      "outputs": [
        {
          "ename": "ModuleNotFoundError",
          "evalue": "No module named 'src'",
          "output_type": "error",
          "traceback": [
            "\u001b[0;31m---------------------------------------------------------------------------\u001b[0m",
            "\u001b[0;31mModuleNotFoundError\u001b[0m                       Traceback (most recent call last)",
            "Cell \u001b[0;32mIn[1], line 1\u001b[0m\n\u001b[0;32m----> 1\u001b[0m \u001b[38;5;28;01mfrom\u001b[39;00m\u001b[38;5;250m \u001b[39m\u001b[38;5;21;01msrc\u001b[39;00m\u001b[38;5;21;01m.\u001b[39;00m\u001b[38;5;21;01msymbolic_solvers\u001b[39;00m\u001b[38;5;21;01m.\u001b[39;00m\u001b[38;5;21;01mfol_solver\u001b[39;00m\u001b[38;5;21;01m.\u001b[39;00m\u001b[38;5;21;01mprover9_solver\u001b[39;00m\u001b[38;5;250m \u001b[39m\u001b[38;5;28;01mimport\u001b[39;00m FOL_Prover9_Program\n\u001b[1;32m      2\u001b[0m \u001b[38;5;28;01mfrom\u001b[39;00m\u001b[38;5;250m \u001b[39m\u001b[38;5;21;01msrc\u001b[39;00m\u001b[38;5;21;01m.\u001b[39;00m\u001b[38;5;21;01msymbolic_solvers\u001b[39;00m\u001b[38;5;21;01m.\u001b[39;00m\u001b[38;5;21;01mpyke_solver\u001b[39;00m\u001b[38;5;21;01m.\u001b[39;00m\u001b[38;5;21;01mpyke_solver\u001b[39;00m\u001b[38;5;250m \u001b[39m\u001b[38;5;28;01mimport\u001b[39;00m Pyke_Program\n\u001b[1;32m      3\u001b[0m \u001b[38;5;28;01mfrom\u001b[39;00m\u001b[38;5;250m \u001b[39m\u001b[38;5;21;01msrc\u001b[39;00m\u001b[38;5;21;01m.\u001b[39;00m\u001b[38;5;21;01msymbolic_solvers\u001b[39;00m\u001b[38;5;21;01m.\u001b[39;00m\u001b[38;5;21;01mz3_solver\u001b[39;00m\u001b[38;5;21;01m.\u001b[39;00m\u001b[38;5;21;01msat_problem_solver\u001b[39;00m\u001b[38;5;250m \u001b[39m\u001b[38;5;28;01mimport\u001b[39;00m LSAT_Z3_Program\n",
            "\u001b[0;31mModuleNotFoundError\u001b[0m: No module named 'src'"
          ]
        }
      ],
      "source": [
        "from src.symbolic_solvers.fol_solver.prover9_solver import FOL_Prover9_Program\n",
        "from src.symbolic_solvers.pyke_solver.pyke_solver import Pyke_Program\n",
        "from src.symbolic_solvers.z3_solver.sat_problem_solver import LSAT_Z3_Program\n",
        "\n",
        "\n",
        "\n",
        "\n",
        "\n",
        "\n",
        "\n",
        "\n"
      ]
    },
    {
      "cell_type": "code",
      "execution_count": 3,
      "metadata": {
        "colab": {
          "base_uri": "https://localhost:8080/"
        },
        "id": "xJuQQcom0c7X",
        "outputId": "e8d131d1-23d0-49c5-fa3c-48dd6113402c"
      },
      "outputs": [
        {
          "name": "stdout",
          "output_type": "stream",
          "text": [
            "Requirement already satisfied: scitools-pyke in /usr/local/lib/python3.11/dist-packages (from -r requirements.txt (line 1)) (1.1.1)\n",
            "Requirement already satisfied: nltk in /usr/local/lib/python3.11/dist-packages (from -r requirements.txt (line 2)) (3.9.1)\n",
            "Requirement already satisfied: python-constraint in /usr/local/lib/python3.11/dist-packages (from -r requirements.txt (line 3)) (1.4.0)\n",
            "Requirement already satisfied: func_timeout in /usr/local/lib/python3.11/dist-packages (from -r requirements.txt (line 4)) (4.3.5)\n",
            "Requirement already satisfied: z3-solver in /usr/local/lib/python3.11/dist-packages (from -r requirements.txt (line 5)) (4.15.1.0)\n",
            "Requirement already satisfied: ply in /usr/local/lib/python3.11/dist-packages (from -r requirements.txt (line 6)) (3.11)\n",
            "Requirement already satisfied: tqdm in /usr/local/lib/python3.11/dist-packages (from -r requirements.txt (line 7)) (4.67.1)\n",
            "Requirement already satisfied: click in /usr/local/lib/python3.11/dist-packages (from nltk->-r requirements.txt (line 2)) (8.2.1)\n",
            "Requirement already satisfied: joblib in /usr/local/lib/python3.11/dist-packages (from nltk->-r requirements.txt (line 2)) (1.5.1)\n",
            "Requirement already satisfied: regex>=2021.8.3 in /usr/local/lib/python3.11/dist-packages (from nltk->-r requirements.txt (line 2)) (2024.11.6)\n"
          ]
        }
      ],
      "source": [
        "!pip install -r requirements.txt"
      ]
    },
    {
      "cell_type": "markdown",
      "metadata": {
        "id": "OV6SJamk0c7Y"
      },
      "source": [
        "## Pyke Solver"
      ]
    },
    {
      "cell_type": "code",
      "execution_count": 4,
      "metadata": {
        "id": "R8Q3pril0c7Y"
      },
      "outputs": [],
      "source": [
        "sample_lp_program = \"Predicates:\\nCold($x, bool) ::: Is x cold?\\nQuiet($x, bool) ::: Is x quiet?\\nRed($x, bool) ::: Is x red?\\nSmart($x, bool) ::: Is x smart?\\nKind($x, bool) ::: Is x kind?\\nRough($x, bool) ::: Is x rough?\\nRound($x, bool) ::: Is x round?\\nFacts:\\nCold(Bob, True) ::: Bob is cold.\\nQuiet(Bob, True) ::: Bob is quiet.\\nRed(Bob, True) ::: Bob is red.\\nSmart(Bob, True) ::: Bob is smart.\\nKind(Charlie, True) ::: Charlie is kind.\\nQuiet(Charlie, True) ::: Charlie is quiet.\\nRed(Charlie, True) ::: Charlie is red.\\nRough(Charlie, True) ::: Charlie is rough.\\nCold(Dave, True) ::: Dave is cold.\\nKind(Dave, True) ::: Dave is kind.\\nSmart(Dave, True) ::: Dave is smart.\\nQuiet(Fiona, True) ::: Fiona is quiet.\\nRules:\\nQuiet($x, True) && Cold($x, True) >>> Smart($x, True) ::: If something is quiet and cold then it is smart.\\nRed($x, True) && Cold($x, True) >>> Round($x, True) ::: Red, cold things are round.\\nKind($x, True) && Rough($x, True) >>> Red($x, True) ::: If something is kind and rough then it is red.\\nQuiet($x, True) >>> Rough($x, True) ::: All quiet things are rough.\\nCold($x, True) && Smart($x, True) >>> Red($x, True) ::: Cold, smart things are red.\\nRough($x, True) >>> Cold($x, True) ::: If something is rough then it is cold.\\nRed($x, True) >>> Rough($x, True) ::: All red things are rough.\\nSmart(Dave, True) && Kind(Dave, True) >>> Quiet(Dave, True) ::: If Dave is smart and Dave is kind then Dave is quiet.\\nQuery:\\nKind(Charlie, True) ::: Charlie is kind.\""
      ]
    },
    {
      "cell_type": "code",
      "execution_count": 5,
      "metadata": {
        "id": "9grceLZN0c7Y"
      },
      "outputs": [],
      "source": [
        "pyke_program = Pyke_Program(sample_lp_program, 'ProofWriter')\n",
        "result, error_message, reasoning = pyke_program.execute_with_reasoning()"
      ]
    },
    {
      "cell_type": "code",
      "execution_count": 6,
      "metadata": {
        "colab": {
          "base_uri": "https://localhost:8080/"
        },
        "id": "3j4lFg2P0c7Y",
        "outputId": "4ce77d13-8f30-47e6-f1f7-9da78a4d256f"
      },
      "outputs": [
        {
          "name": "stdout",
          "output_type": "stream",
          "text": [
            "================================================================================\n",
            "Complete Reasoning Path:\n",
            "================================================================================\n",
            "We first define following predicates and corresponding natural language explanations:\n",
            "  Cold($x, bool) ::: Is x cold?\n",
            "  Quiet($x, bool) ::: Is x quiet?\n",
            "  Red($x, bool) ::: Is x red?\n",
            "  Smart($x, bool) ::: Is x smart?\n",
            "  Kind($x, bool) ::: Is x kind?\n",
            "  Rough($x, bool) ::: Is x rough?\n",
            "  Round($x, bool) ::: Is x round?\n",
            "We have following known facts from the context:\n",
            "  Cold(Bob, True) ::: Bob is cold.\n",
            "  Quiet(Bob, True) ::: Bob is quiet.\n",
            "  Red(Bob, True) ::: Bob is red.\n",
            "  Smart(Bob, True) ::: Bob is smart.\n",
            "  Kind(Charlie, True) ::: Charlie is kind.\n",
            "  Quiet(Charlie, True) ::: Charlie is quiet.\n",
            "  Red(Charlie, True) ::: Charlie is red.\n",
            "  Rough(Charlie, True) ::: Charlie is rough.\n",
            "  Cold(Dave, True) ::: Dave is cold.\n",
            "  Kind(Dave, True) ::: Dave is kind.\n",
            "  Smart(Dave, True) ::: Dave is smart.\n",
            "  Quiet(Fiona, True) ::: Fiona is quiet.\n",
            "We have following known rules from the context:\n",
            "  rule1: Quiet($x, True) && Cold($x, True) >>> Smart($x, True)\n",
            "  rule2: Red($x, True) && Cold($x, True) >>> Round($x, True)\n",
            "  rule3: Kind($x, True) && Rough($x, True) >>> Red($x, True)\n",
            "  rule4: Quiet($x, True) >>> Rough($x, True)\n",
            "  rule5: Cold($x, True) && Smart($x, True) >>> Red($x, True)\n",
            "  rule6: Rough($x, True) >>> Cold($x, True)\n",
            "  rule7: Red($x, True) >>> Rough($x, True)\n",
            "  rule8: Smart(Dave, True) && Kind(Dave, True) >>> Quiet(Dave, True)\n",
            "Now begin reasoning to obtain all implied facts:\n",
            "Use rule1: Quiet($x, True) && Cold($x, True) >>> Smart($x, True)\n",
            "Bind $x to 'Bob'\n",
            "Obtain an already known or implied fact: Smart('Bob', True)\n",
            "Unbind $x\n",
            "Bind $x to 'Charlie'\n",
            "Unbind $x\n",
            "Bind $x to 'Fiona'\n",
            "Unbind $x\n",
            "Finish implied with rule1\n",
            "Use rule2: Red($x, True) && Cold($x, True) >>> Round($x, True)\n",
            "Bind $x to 'Bob'\n",
            "Obtain a new implied fact: Round('Bob', True)\n",
            "Unbind $x\n",
            "Bind $x to 'Charlie'\n",
            "Unbind $x\n",
            "Finish implied with rule2\n",
            "Use rule3: Kind($x, True) && Rough($x, True) >>> Red($x, True)\n",
            "Bind $x to 'Charlie'\n",
            "Obtain an already known or implied fact: Red('Charlie', True)\n",
            "Unbind $x\n",
            "Bind $x to 'Dave'\n",
            "Unbind $x\n",
            "Finish implied with rule3\n",
            "Use rule4: Quiet($x, True) >>> Rough($x, True)\n",
            "Bind $x to 'Bob'\n",
            "Obtain a new implied fact: Rough('Bob', True)\n",
            "Reuse rule3: Kind($x, True) && Rough($x, True) >>> Red($x, True)\n",
            "Bind $x to 'Bob'\n",
            "Finish implied with rule3\n",
            "Use rule6: Rough($x, True) >>> Cold($x, True)\n",
            "Finish implied with rule6\n",
            "Reuse rule3: Kind($x, True) && Rough($x, True) >>> Red($x, True)\n",
            "Bind $x to 'Fiona'\n",
            "Finish implied with rule3\n",
            "Reuse rule6: Rough($x, True) >>> Cold($x, True)\n",
            "Finish implied with rule6\n",
            "Finish implied with rule4\n",
            "Use rule5: Cold($x, True) && Smart($x, True) >>> Red($x, True)\n",
            "Bind $x to 'Bob'\n",
            "Obtain an already known or implied fact: Red('Bob', True)\n",
            "Unbind $x\n",
            "Bind $x to 'Dave'\n",
            "Obtain a new implied fact: Red('Dave', True)\n",
            "Reuse rule2: Red($x, True) && Cold($x, True) >>> Round($x, True)\n",
            "Bind $x to 'Dave'\n",
            "Obtain a new implied fact: Round('Dave', True)\n",
            "Finish implied with rule2\n",
            "Use rule7: Red($x, True) >>> Rough($x, True)\n",
            "Finish implied with rule7\n",
            "Finish implied with rule5\n",
            "Reuse rule6: Rough($x, True) >>> Cold($x, True)\n",
            "Bind $x to 'Charlie'\n",
            "Obtain a new implied fact: Cold('Charlie', True)\n",
            "Reuse rule1: Quiet($x, True) && Cold($x, True) >>> Smart($x, True)\n",
            "Bind $x to 'Charlie'\n",
            "Obtain a new implied fact: Smart('Charlie', True)\n",
            "Reuse rule5: Cold($x, True) && Smart($x, True) >>> Red($x, True)\n",
            "Bind $x to 'Charlie'\n",
            "Obtain an already known or implied fact: Red('Charlie', True)\n",
            "Finish implied with rule5\n",
            "Use rule8: Smart(Dave, True) && Kind(Dave, True) >>> Quiet(Dave, True)\n",
            "Finish implied with rule8\n",
            "Finish implied with rule1\n",
            "Reuse rule2: Red($x, True) && Cold($x, True) >>> Round($x, True)\n",
            "Bind $x to 'Charlie'\n",
            "Obtain a new implied fact: Round('Charlie', True)\n",
            "Finish implied with rule2\n",
            "Reuse rule5: Cold($x, True) && Smart($x, True) >>> Red($x, True)\n",
            "Bind $x to 'Charlie'\n",
            "Obtain an already known or implied fact: Red('Charlie', True)\n",
            "Finish implied with rule5\n",
            "Reuse rule1: Quiet($x, True) && Cold($x, True) >>> Smart($x, True)\n",
            "Bind $x to 'Fiona'\n",
            "Obtain a new implied fact: Smart('Fiona', True)\n",
            "Reuse rule5: Cold($x, True) && Smart($x, True) >>> Red($x, True)\n",
            "Bind $x to 'Fiona'\n",
            "Obtain a new implied fact: Red('Fiona', True)\n",
            "Reuse rule2: Red($x, True) && Cold($x, True) >>> Round($x, True)\n",
            "Bind $x to 'Fiona'\n",
            "Obtain a new implied fact: Round('Fiona', True)\n",
            "Finish implied with rule2\n",
            "Reuse rule7: Red($x, True) >>> Rough($x, True)\n",
            "Finish implied with rule7\n",
            "Finish implied with rule5\n",
            "Reuse rule8: Smart(Dave, True) && Kind(Dave, True) >>> Quiet(Dave, True)\n",
            "Finish implied with rule8\n",
            "Finish implied with rule1\n",
            "Reuse rule2: Red($x, True) && Cold($x, True) >>> Round($x, True)\n",
            "Bind $x to 'Fiona'\n",
            "Obtain an already known or implied fact: Round('Fiona', True)\n",
            "Finish implied with rule2\n",
            "Reuse rule5: Cold($x, True) && Smart($x, True) >>> Red($x, True)\n",
            "Bind $x to 'Fiona'\n",
            "Obtain an already known or implied fact: Red('Fiona', True)\n",
            "Finish implied with rule5\n",
            "Finish implied with rule6\n",
            "Reuse rule7: Red($x, True) >>> Rough($x, True)\n",
            "Bind $x to 'Bob'\n",
            "Obtain an already known or implied fact: Rough('Bob', True)\n",
            "Unbind $x\n",
            "Bind $x to 'Charlie'\n",
            "Obtain an already known or implied fact: Rough('Charlie', True)\n",
            "Unbind $x\n",
            "Bind $x to 'Dave'\n",
            "Obtain a new implied fact: Rough('Dave', True)\n",
            "Reuse rule3: Kind($x, True) && Rough($x, True) >>> Red($x, True)\n",
            "Bind $x to 'Dave'\n",
            "Obtain an already known or implied fact: Red('Dave', True)\n",
            "Finish implied with rule3\n",
            "Reuse rule6: Rough($x, True) >>> Cold($x, True)\n",
            "Bind $x to 'Dave'\n",
            "Obtain an already known or implied fact: Cold('Dave', True)\n",
            "Finish implied with rule6\n",
            "Finish implied with rule7\n",
            "Reuse rule8: Smart(Dave, True) && Kind(Dave, True) >>> Quiet(Dave, True)\n",
            "Obtain a new implied fact: Quiet('Dave', True)\n",
            "Reuse rule1: Quiet($x, True) && Cold($x, True) >>> Smart($x, True)\n",
            "Bind $x to 'Dave'\n",
            "Obtain an already known or implied fact: Smart('Dave', True)\n",
            "Finish implied with rule1\n",
            "Reuse rule4: Quiet($x, True) >>> Rough($x, True)\n",
            "Bind $x to 'Dave'\n",
            "Obtain an already known or implied fact: Rough('Dave', True)\n",
            "Finish implied with rule4\n",
            "Finish implied with rule8\n",
            "All newly implied Facts: Cold('Charlie', True), Quiet('Dave', True), Red('Dave', True), Red('Fiona', True), Rough('Bob', True), Rough('Dave', True), Round('Bob', True), Round('Charlie', True), Round('Dave', True), Round('Fiona', True), Smart('Charlie', True), Smart('Fiona', True)\n",
            "Finish reasoning\n",
            "\n",
            "================================================================================\n",
            "total tokens: 6295\n",
            "num of lines: 158\n",
            "================================================================================\n"
          ]
        }
      ],
      "source": [
        "print(reasoning)"
      ]
    },
    {
      "cell_type": "markdown",
      "metadata": {
        "id": "601Uc7rc0c7Z"
      },
      "source": [
        "## Prove9 Solver"
      ]
    },
    {
      "cell_type": "markdown",
      "metadata": {
        "id": "EQ6-dsLj3Jht"
      },
      "source": [
        "### Case1: Answer is Ture"
      ]
    },
    {
      "cell_type": "code",
      "execution_count": 7,
      "metadata": {
        "id": "MBBvu7_I0c7Z"
      },
      "outputs": [],
      "source": [
        "logic_program_t = \"\"\"Premises:\n",
        "    ∀x (Drinks(x) → Dependent(x)) ::: All people who regularly drink coffee are dependent on caffeine.\n",
        "    ∀x (Drinks(x) ⊕ Jokes(x)) ::: People either regularly drink coffee or joke about being addicted to caffeine.\n",
        "    ∀x (Jokes(x) → ¬Unaware(x)) ::: No one who jokes about being addicted to caffeine is unaware that caffeine is a drug.\n",
        "    (Student(rina) ∧ Unaware(rina)) ⊕ ¬(Student(rina) ∨ Unaware(rina)) ::: Rina is either a student and unaware that caffeine is a drug, or neither a student nor unaware that caffeine is a drug.\n",
        "    ¬(Dependent(rina) ∧ Student(rina)) → (Dependent(rina) ∧ Student(rina)) ⊕ ¬(Dependent(rina) ∨ Student(rina)) ::: If Rina is not a person dependent on caffeine and a student, then Rina is either a person dependent on caffeine and a student, or neither a person dependent on caffeine nor a student.\n",
        "    Conclusion:\n",
        "    Jokes(rina) ⊕ Unaware(rina) ::: Rina is either a person who jokes about being addicted to caffeine or is unaware that caffeine is a drug.\n",
        "    \"\"\""
      ]
    },
    {
      "cell_type": "code",
      "execution_count": 8,
      "metadata": {
        "id": "aA59eo7K0c7Z"
      },
      "outputs": [],
      "source": [
        "prover9_program = FOL_Prover9_Program(logic_program_t)"
      ]
    },
    {
      "cell_type": "code",
      "execution_count": 9,
      "metadata": {
        "colab": {
          "base_uri": "https://localhost:8080/"
        },
        "id": "0QZ4wddn0c7Z",
        "outputId": "19cbdd37-c09a-4a3f-80fe-10783ad682f9"
      },
      "outputs": [
        {
          "name": "stdout",
          "output_type": "stream",
          "text": [
            "result: True\n"
          ]
        }
      ],
      "source": [
        "result, error_message, reasoning = prover9_program.execute_program()\n",
        "print(f\"result: {result}\")"
      ]
    },
    {
      "cell_type": "code",
      "execution_count": 10,
      "metadata": {
        "colab": {
          "base_uri": "https://localhost:8080/"
        },
        "id": "hrrRFLnu3Hq_",
        "outputId": "a939120d-fcfe-4e88-95d3-c4c863f65a2e"
      },
      "outputs": [
        {
          "name": "stdout",
          "output_type": "stream",
          "text": [
            "prove original conclusion:\n",
            "1 (all x (Drinks(x) -> Dependent(x))).  [assumption].\n",
            "2 (all x (Drinks(x) & -Jokes(x) | -Drinks(x) & Jokes(x))).  [assumption].\n",
            "3 (all x (Jokes(x) -> -Unaware(x))).  [assumption].\n",
            "4 Student(Rina) & Unaware(Rina) & --(Student(Rina) | Unaware(Rina)) | -(Student(Rina) & Unaware(Rina)) & -(Student(Rina) | Unaware(Rina)).  [assumption].\n",
            "5 (-(Dependent(Rina) & Student(Rina)) -> Dependent(Rina) & Student(Rina)) & --(Dependent(Rina) | Student(Rina)) | -(-(Dependent(Rina) & Student(Rina)) -> Dependent(Rina) & Student(Rina)) & -(Dependent(Rina) | Student(Rina)).  [assumption].\n",
            "6 Jokes(Rina) & -Unaware(Rina) | -Jokes(Rina) & Unaware(Rina).  [goal].\n",
            "7 Drinks(x) | Jokes(x).  [clausify(2)].\n",
            "8 -Drinks(x) | Dependent(x).  [clausify(1)].\n",
            "10 Jokes(Rina) | -Unaware(Rina).  [deny(6)].\n",
            "11 -Jokes(x) | -Unaware(x).  [clausify(3)].\n",
            "12 -Jokes(Rina) | Unaware(Rina).  [deny(6)].\n",
            "13 Jokes(x) | Dependent(x).  [resolve(7,a,8,a)].\n",
            "14 Unaware(Rina) | -Student(Rina).  [clausify(4)].\n",
            "17 Student(Rina) | -Dependent(Rina).  [clausify(5)].\n",
            "18 -Dependent(Rina) | Unaware(Rina).  [resolve(17,a,14,b)].\n",
            "20 Dependent(Rina) | Unaware(Rina).  [resolve(13,a,12,a)].\n",
            "21 -Unaware(Rina) | -Unaware(Rina).  [resolve(10,a,11,a)].\n",
            "22 -Unaware(Rina).  [copy(21),merge(b)].\n",
            "23 Unaware(Rina) | Unaware(Rina).  [resolve(18,a,20,a)].\n",
            "24 $F.  [copy(23),merge(b),unit_del(a,22)].\n"
          ]
        }
      ],
      "source": [
        "print(reasoning)"
      ]
    },
    {
      "cell_type": "markdown",
      "metadata": {
        "id": "XAlS4L3s3TKR"
      },
      "source": [
        "### Case2: Answer is fasle"
      ]
    },
    {
      "cell_type": "code",
      "execution_count": 11,
      "metadata": {
        "id": "QdnEzNg03wpi"
      },
      "outputs": [],
      "source": [
        "logic_program_f = \"\"\"Premises:\n",
        "    Czech(miroslav) ∧ ChoralConductor(miroslav) ∧ Specialize(miroslav, renaissance) ∧ Specialize(miroslav, baroque) ::: Miroslav Venhoda was a Czech choral conductor who specialized in the performance of Renaissance and Baroque music.\n",
        "    ∀x (ChoralConductor(x) → Musician(x)) ::: Any choral conductor is a musician.\n",
        "    ∃x (Musician(x) ∧ Love(x, music)) ::: Some musicians love music.\n",
        "    Book(methodOfStudyingGregorianChant) ∧ Author(miroslav, methodOfStudyingGregorianChant) ∧ Publish(methodOfStudyingGregorianChant, year1946) ::: Miroslav Venhoda published a book in 1946 called Method of Studying Gregorian Chant.\n",
        "    Conclusion:\n",
        "    ¬∃x (ChoralConductor(x) ∧ Specialize(x, renaissance)) ::: No choral conductor specialized in the performance of Renaissance.\n",
        "    \"\"\""
      ]
    },
    {
      "cell_type": "code",
      "execution_count": 12,
      "metadata": {
        "id": "Yl6KOmpd4HxF"
      },
      "outputs": [],
      "source": [
        "prover9_program = FOL_Prover9_Program(logic_program_f)"
      ]
    },
    {
      "cell_type": "code",
      "execution_count": 13,
      "metadata": {
        "colab": {
          "base_uri": "https://localhost:8080/"
        },
        "id": "-endFynO4MGM",
        "outputId": "c59a72e0-7239-4310-89ac-9debbc67f070"
      },
      "outputs": [
        {
          "name": "stdout",
          "output_type": "stream",
          "text": [
            "result: False\n"
          ]
        }
      ],
      "source": [
        "result, error_message, reasoning = prover9_program.execute_program()\n",
        "print(f\"result: {result}\")"
      ]
    },
    {
      "cell_type": "code",
      "execution_count": 14,
      "metadata": {
        "colab": {
          "base_uri": "https://localhost:8080/"
        },
        "id": "OQiwF2UJ4OPH",
        "outputId": "6667f115-4750-4022-aedc-cf4661574e23"
      },
      "outputs": [
        {
          "name": "stdout",
          "output_type": "stream",
          "text": [
            "prove negation of original conclusion:\n",
            "1 Czech(Miroslav) & ChoralConductor(Miroslav) & Specialize(Miroslav,Renaissance) & Specialize(Miroslav,Baroque).  [assumption].\n",
            "5 --(exists x (ChoralConductor(x) & Specialize(x,Renaissance))).  [goal].\n",
            "7 ChoralConductor(Miroslav).  [clausify(1)].\n",
            "8 -ChoralConductor(x) | -Specialize(x,Renaissance).  [deny(5)].\n",
            "9 -Specialize(Miroslav,Renaissance).  [resolve(8,a,7,a)].\n",
            "10 Specialize(Miroslav,Renaissance).  [clausify(1)].\n",
            "12 $F.  [resolve(9,a,10,a)].\n"
          ]
        }
      ],
      "source": [
        "print(reasoning)"
      ]
    },
    {
      "cell_type": "markdown",
      "metadata": {
        "id": "g3nfgyBt4Tow"
      },
      "source": [
        "### Case3: Answer is unkonw"
      ]
    },
    {
      "cell_type": "code",
      "execution_count": 19,
      "metadata": {
        "id": "YWaMrmwC4Y-0"
      },
      "outputs": [],
      "source": [
        "logic_program_unk = \"\"\"Premises:\n",
        "    ∀x (TalentShows(x) → Engaged(x)) ::: If people perform in school talent shows often, then they attend and are very engaged with school events.\n",
        "    ∀x (TalentShows(x) ∨ Inactive(x)) ::: People either perform in school talent shows often or are inactive and disinterested members of their community.\n",
        "    ∀x (Chaperone(x) → ¬Students(x)) ::: If people chaperone high school dances, then they are not students who attend the school.\n",
        "    ∀x (Inactive(x) → Chaperone(x)) ::: All people who are inactive and disinterested members of their community chaperone high school dances.\n",
        "    ∀x (AcademicCareer(x) → Students(x)) ::: All young children and teenagers who wish to further their academic careers and educational opportunities are students who attend the school.\n",
        "    Conclusion:\n",
        "    TalentShows(bonnie) ::: Bonnie performs in school talent shows often.\n",
        "    \"\"\""
      ]
    },
    {
      "cell_type": "code",
      "execution_count": 20,
      "metadata": {
        "id": "ZgwRc4EJ4ag-"
      },
      "outputs": [],
      "source": [
        "prover9_program = FOL_Prover9_Program(logic_program_unk)"
      ]
    },
    {
      "cell_type": "code",
      "execution_count": 21,
      "metadata": {
        "colab": {
          "base_uri": "https://localhost:8080/"
        },
        "id": "1WZV8RZk4c1T",
        "outputId": "11df03c4-8a3d-49e9-cff5-051305fa077a"
      },
      "outputs": [
        {
          "name": "stdout",
          "output_type": "stream",
          "text": [
            "result: Unknown\n"
          ]
        }
      ],
      "source": [
        "result, error_message, reasoning = prover9_program.execute_program()\n",
        "print(f\"result: {result}\")"
      ]
    },
    {
      "cell_type": "code",
      "execution_count": 22,
      "metadata": {
        "colab": {
          "base_uri": "https://localhost:8080/"
        },
        "id": "aYXQuOY64d8U",
        "outputId": "ae88e4d4-e37a-40a6-9068-972cfcc4fdb8"
      },
      "outputs": [
        {
          "name": "stdout",
          "output_type": "stream",
          "text": [
            "trying to prove original conclusion:\n",
            "1 (all x (TalentShows(x) -> Engaged(x))) # label(non_clause). [assumption].\n",
            "2 (all x (TalentShows(x) | Inactive(x))) # label(non_clause). [assumption].\n",
            "3 (all x (Chaperone(x) -> -Students(x))) # label(non_clause). [assumption].\n",
            "4 (all x (Inactive(x) -> Chaperone(x))) # label(non_clause). [assumption].\n",
            "5 (all x (AcademicCareer(x) -> Students(x))) # label(non_clause). [assumption].\n",
            "6 TalentShows(Bonnie) # label(non_clause) # label(goal). [goal].\n",
            "7 -TalentShows(x) | Engaged(x). [clausify(1)].\n",
            "8 TalentShows(x) | Inactive(x). [clausify(2)].\n",
            "9 -Chaperone(x) | -Students(x). [clausify(3)].\n",
            "10 -Inactive(x) | Chaperone(x). [clausify(4)].\n",
            "11 -AcademicCareer(x) | Students(x). [clausify(5)].\n",
            "12 -TalentShows(Bonnie). [deny(6)].\n",
            "13 Derived: Inactive(x) | Engaged(x). [resolve(8,a,7,a)].\n",
            "14 Derived: Inactive(Bonnie). [resolve(12,a,8,a)].\n",
            "15 Derived: -Inactive(x) | -Students(x). [resolve(10,b,9,a)].\n",
            "16 Derived: -Students(x) | Engaged(x). [resolve(15,a,13,a)].\n",
            "17 Derived: -Students(Bonnie). [resolve(15,a,14,a)].\n",
            "-- Search terminated, no contradiction found --\n",
            "\n",
            "trying to prove negation of original conclusion:\n",
            "1 (all x (TalentShows(x) -> Engaged(x))) # label(non_clause). [assumption].\n",
            "2 (all x (TalentShows(x) | Inactive(x))) # label(non_clause). [assumption].\n",
            "3 (all x (Chaperone(x) -> -Students(x))) # label(non_clause). [assumption].\n",
            "4 (all x (Inactive(x) -> Chaperone(x))) # label(non_clause). [assumption].\n",
            "5 (all x (AcademicCareer(x) -> Students(x))) # label(non_clause). [assumption].\n",
            "6 -TalentShows(Bonnie) # label(non_clause) # label(goal). [goal].\n",
            "7 -TalentShows(x) | Engaged(x). [clausify(1)].\n",
            "8 TalentShows(x) | Inactive(x). [clausify(2)].\n",
            "9 -Chaperone(x) | -Students(x). [clausify(3)].\n",
            "10 -Inactive(x) | Chaperone(x). [clausify(4)].\n",
            "11 -AcademicCareer(x) | Students(x). [clausify(5)].\n",
            "12 TalentShows(Bonnie). [deny(6)].\n",
            "13 Derived: Inactive(x) | Engaged(x). [resolve(8,a,7,a)].\n",
            "14 Derived: Engaged(Bonnie). [resolve(12,a,7,a)].\n",
            "15 Derived: -Inactive(x) | -Students(x). [resolve(10,b,9,a)].\n",
            "16 Derived: -Students(x) | Engaged(x). [resolve(15,a,13,a)].\n",
            "-- Search terminated, no contradiction found --\n",
            "\n",
            "So: Unknown\n"
          ]
        }
      ],
      "source": [
        "print(reasoning)"
      ]
    },
    {
      "cell_type": "markdown",
      "metadata": {},
      "source": [
        "## SAT solver "
      ]
    },
    {
      "cell_type": "markdown",
      "metadata": {},
      "source": [
        "### Case1: Execution successful"
      ]
    },
    {
      "cell_type": "code",
      "execution_count": null,
      "metadata": {
        "id": "hqCzRgIc4jhr"
      },
      "outputs": [],
      "source": []
    },
    {
      "cell_type": "markdown",
      "metadata": {},
      "source": [
        "### Case2: Execution unsuccessful"
      ]
    }
  ],
  "metadata": {
    "colab": {
      "include_colab_link": true,
      "provenance": []
    },
    "kernelspec": {
      "display_name": "logiclm",
      "language": "python",
      "name": "python3"
    },
    "language_info": {
      "codemirror_mode": {
        "name": "ipython",
        "version": 3
      },
      "file_extension": ".py",
      "mimetype": "text/x-python",
      "name": "python",
      "nbconvert_exporter": "python",
      "pygments_lexer": "ipython3",
      "version": "3.10.18"
    }
  },
  "nbformat": 4,
  "nbformat_minor": 0
}
